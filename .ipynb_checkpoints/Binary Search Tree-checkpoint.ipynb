{
 "cells": [
  {
   "cell_type": "code",
   "execution_count": 2,
   "metadata": {},
   "outputs": [],
   "source": [
    "class Node:\n",
    "  def __init__(self,data):\n",
    "    self.data=data\n",
    "    self.left=None\n",
    "    self.right=None"
   ]
  },
  {
   "cell_type": "code",
   "execution_count": 3,
   "metadata": {},
   "outputs": [],
   "source": [
    "root=Node(8)\n",
    "root.left=Node(3)\n",
    "root.right=Node(10)\n",
    "root.left.left=Node(1)\n",
    "root.left.right=Node(6)\n",
    "root.left.right.right=Node(7)\n",
    "root.left.right.left=Node(4)\n",
    "root.right.right=Node(14)\n",
    "root.right.right.left=Node(13)"
   ]
  },
  {
   "cell_type": "code",
   "execution_count": 4,
   "metadata": {},
   "outputs": [],
   "source": [
    "def inorder(root):\n",
    "    if root is None:\n",
    "        return\n",
    "    inorder(root.left)\n",
    "    print(root.data,end=\" \")\n",
    "    inorder(root.right)\n",
    "    "
   ]
  },
  {
   "cell_type": "code",
   "execution_count": 5,
   "metadata": {},
   "outputs": [
    {
     "name": "stdout",
     "output_type": "stream",
     "text": [
      "1 3 4 6 7 8 10 13 14 "
     ]
    }
   ],
   "source": [
    "inorder(root)"
   ]
  },
  {
   "cell_type": "code",
   "execution_count": 7,
   "metadata": {},
   "outputs": [],
   "source": [
    "def search(root,key):\n",
    "    if root is None:\n",
    "        return\n",
    "    if root.data==key:\n",
    "        return root.data\n",
    "    elif key<root.data:\n",
    "        return search(root.left,key)\n",
    "    return search(root.right,key)    "
   ]
  },
  {
   "cell_type": "code",
   "execution_count": 12,
   "metadata": {},
   "outputs": [
    {
     "name": "stdout",
     "output_type": "stream",
     "text": [
      "14 Key Found\n"
     ]
    }
   ],
   "source": [
    "result=search(root,14)\n",
    "if result:\n",
    "    print(f\"{result} Key Found\")\n",
    "else:\n",
    "    print(\"Key cannot be found\")"
   ]
  },
  {
   "cell_type": "code",
   "execution_count": 9,
   "metadata": {},
   "outputs": [],
   "source": []
  },
  {
   "cell_type": "code",
   "execution_count": null,
   "metadata": {},
   "outputs": [],
   "source": []
  }
 ],
 "metadata": {
  "kernelspec": {
   "display_name": "Python 3",
   "language": "python",
   "name": "python3"
  },
  "language_info": {
   "codemirror_mode": {
    "name": "ipython",
    "version": 3
   },
   "file_extension": ".py",
   "mimetype": "text/x-python",
   "name": "python",
   "nbconvert_exporter": "python",
   "pygments_lexer": "ipython3",
   "version": "3.7.6"
  }
 },
 "nbformat": 4,
 "nbformat_minor": 4
}
