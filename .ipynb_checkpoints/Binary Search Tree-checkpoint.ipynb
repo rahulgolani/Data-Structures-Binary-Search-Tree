{
 "cells": [
  {
   "cell_type": "code",
   "execution_count": 1,
   "metadata": {},
   "outputs": [],
   "source": [
    "class Node:\n",
    "  def __init__(self,data):\n",
    "    self.data=data\n",
    "    self.left=None\n",
    "    self.right=None"
   ]
  },
  {
   "cell_type": "code",
   "execution_count": 39,
   "metadata": {},
   "outputs": [],
   "source": [
    "root=Node(8)\n",
    "root.left=Node(3)\n",
    "root.right=Node(10)\n",
    "root.left.left=Node(1)\n",
    "root.left.right=Node(6)\n",
    "root.left.right.right=Node(7)\n",
    "root.left.right.left=Node(4)\n",
    "root.right.right=Node(14)\n",
    "root.right.right.left=Node(13)"
   ]
  },
  {
   "cell_type": "code",
   "execution_count": 3,
   "metadata": {},
   "outputs": [],
   "source": [
    "def inorder(root):\n",
    "    if root is None:\n",
    "        return\n",
    "    inorder(root.left)\n",
    "    print(root.data,end=\" \")\n",
    "    inorder(root.right)\n",
    "    "
   ]
  },
  {
   "cell_type": "code",
   "execution_count": 4,
   "metadata": {},
   "outputs": [
    {
     "name": "stdout",
     "output_type": "stream",
     "text": [
      "1 3 4 6 7 8 10 13 14 "
     ]
    }
   ],
   "source": [
    "inorder(root)"
   ]
  },
  {
   "cell_type": "code",
   "execution_count": 5,
   "metadata": {},
   "outputs": [],
   "source": [
    "def search(root,key):\n",
    "    if root is None:\n",
    "        return\n",
    "    if root.data==key:\n",
    "        return root.data\n",
    "    elif key<root.data:\n",
    "        return search(root.left,key)\n",
    "    return search(root.right,key)    "
   ]
  },
  {
   "cell_type": "code",
   "execution_count": 6,
   "metadata": {},
   "outputs": [
    {
     "name": "stdout",
     "output_type": "stream",
     "text": [
      "14 Key Found\n"
     ]
    }
   ],
   "source": [
    "result=search(root,14)\n",
    "if result:\n",
    "    print(f\"{result} Key Found\")\n",
    "else:\n",
    "    print(\"Key cannot be found\")"
   ]
  },
  {
   "cell_type": "code",
   "execution_count": 7,
   "metadata": {},
   "outputs": [],
   "source": [
    "def insert(root,key):\n",
    "    if root is None:\n",
    "        root = Node(key)\n",
    "        return root\n",
    "    elif key<root.data:\n",
    "        root.left=insert(root.left,key)\n",
    "    else:\n",
    "        root.right=insert(root.right,key)\n",
    "    return root\n"
   ]
  },
  {
   "cell_type": "code",
   "execution_count": 8,
   "metadata": {},
   "outputs": [
    {
     "data": {
      "text/plain": [
       "<__main__.Node at 0x1f16c7aa648>"
      ]
     },
     "execution_count": 8,
     "metadata": {},
     "output_type": "execute_result"
    }
   ],
   "source": [
    "insert(root,25)"
   ]
  },
  {
   "cell_type": "code",
   "execution_count": 9,
   "metadata": {},
   "outputs": [
    {
     "name": "stdout",
     "output_type": "stream",
     "text": [
      "1 3 4 6 7 8 10 13 14 25 "
     ]
    }
   ],
   "source": [
    "inorder(root)"
   ]
  },
  {
   "cell_type": "code",
   "execution_count": 11,
   "metadata": {},
   "outputs": [
    {
     "data": {
      "text/plain": [
       "<__main__.Node at 0x1f16c7aa648>"
      ]
     },
     "execution_count": 11,
     "metadata": {},
     "output_type": "execute_result"
    }
   ],
   "source": [
    "insert(root,9)"
   ]
  },
  {
   "cell_type": "code",
   "execution_count": 12,
   "metadata": {},
   "outputs": [
    {
     "name": "stdout",
     "output_type": "stream",
     "text": [
      "1 3 4 6 7 8 9 10 13 14 25 "
     ]
    }
   ],
   "source": [
    "inorder(root)"
   ]
  },
  {
   "cell_type": "markdown",
   "metadata": {},
   "source": [
    "# Deletion in BST"
   ]
  },
  {
   "cell_type": "code",
   "execution_count": 37,
   "metadata": {},
   "outputs": [],
   "source": [
    "def minNode(root):\n",
    "    if root is None:\n",
    "        return root\n",
    "    curr=root\n",
    "    while curr.left is not None:\n",
    "        curr=curr.left\n",
    "    return curr\n",
    "\n",
    "def deleteBST(root,key):\n",
    "    if root is None:\n",
    "        return root\n",
    "    if key<root.data:\n",
    "        root.left=deleteBST(root.left,key)\n",
    "    elif key>root.data:\n",
    "        root.right=deleteBST(root.right,key)\n",
    "    else:\n",
    "        if root.left is None:\n",
    "            temp=root.right\n",
    "            root=None\n",
    "            return temp\n",
    "        elif root.right is None:\n",
    "            temp=root.left\n",
    "            root=None\n",
    "            return temp\n",
    "        \n",
    "        temp=minNode(root.right)\n",
    "        root.data=temp.data\n",
    "        root.right=deleteBST(root.right,temp.data)\n",
    "    return root"
   ]
  },
  {
   "cell_type": "code",
   "execution_count": 38,
   "metadata": {},
   "outputs": [
    {
     "name": "stdout",
     "output_type": "stream",
     "text": [
      "10 13 14 "
     ]
    }
   ],
   "source": [
    "inorder(root)"
   ]
  },
  {
   "cell_type": "code",
   "execution_count": 41,
   "metadata": {},
   "outputs": [
    {
     "data": {
      "text/plain": [
       "<__main__.Node at 0x1f16c7d2288>"
      ]
     },
     "execution_count": 41,
     "metadata": {},
     "output_type": "execute_result"
    }
   ],
   "source": [
    "deleteBST(root,8)"
   ]
  },
  {
   "cell_type": "code",
   "execution_count": 43,
   "metadata": {},
   "outputs": [
    {
     "name": "stdout",
     "output_type": "stream",
     "text": [
      "1 3 4 6 7 10 13 14 "
     ]
    }
   ],
   "source": [
    "inorder(root)"
   ]
  },
  {
   "cell_type": "markdown",
   "metadata": {},
   "source": [
    "# Construct Tree from PreOrder Traversal O(n2)"
   ]
  },
  {
   "cell_type": "code",
   "execution_count": 48,
   "metadata": {},
   "outputs": [],
   "source": [
    "def getpreIndex():\n",
    "    return constructTree.preIndex\n",
    "\n",
    "def incrementPreIndex():\n",
    "    constructTree.preIndex+=1\n",
    "\n",
    "def constructTreeUtil(preorder,low,high,size):\n",
    "    if getpreIndex()>=size or low>high:\n",
    "          return\n",
    "    \n",
    "    root=Node(preorder[getpreIndex()])\n",
    "    incrementPreIndex()\n",
    "    if low==high:\n",
    "          return root\n",
    "    \n",
    "    if getpreIndex()<size:\n",
    "        \n",
    "        for i in range(getpreIndex(),size):\n",
    "            if preorder[i]>root.data:\n",
    "                break\n",
    "        root.left=constructTreeUtil(preorder,getpreIndex(),i-1,size)\n",
    "        root.right=constructTreeUtil(preorder,i,high,size)\n",
    "    return root\n",
    "\n",
    "    \n",
    "def constructTree(preorder):\n",
    "    size=len(preorder)\n",
    "    constructTree.preIndex=0\n",
    "    root=constructTreeUtil(preorder,0,size-1,size)\n",
    "    return root\n"
   ]
  },
  {
   "cell_type": "code",
   "execution_count": 49,
   "metadata": {},
   "outputs": [],
   "source": [
    "preorder=[10, 5, 1, 7, 40, 50]"
   ]
  },
  {
   "cell_type": "code",
   "execution_count": 50,
   "metadata": {},
   "outputs": [],
   "source": [
    "root=constructTree(preorder)"
   ]
  },
  {
   "cell_type": "code",
   "execution_count": 52,
   "metadata": {},
   "outputs": [
    {
     "name": "stdout",
     "output_type": "stream",
     "text": [
      "1 5 7 10 40 50 "
     ]
    }
   ],
   "source": [
    "inorder(root)"
   ]
  },
  {
   "cell_type": "markdown",
   "metadata": {},
   "source": [
    "# Construction from preorder traversal O(n)"
   ]
  },
  {
   "cell_type": "code",
   "execution_count": 53,
   "metadata": {},
   "outputs": [],
   "source": [
    "INTMIN=float(\"-infinity\")\n",
    "INTMAX=float(\"infinity\")\n",
    "\n",
    "def getpreIndex():\n",
    "    return constructTree.preIndex\n",
    "\n",
    "def incrementPreIndex():\n",
    "    constructTree.preIndex+=1\n",
    "\n",
    "def constructTreeUtil(preorder,key,low,high,size):\n",
    "    if getpreIndex()>=size or low>high:\n",
    "        return\n",
    "\n",
    "    root=None\n",
    "    \n",
    "    if key>low and key<high:\n",
    "        \n",
    "        root=Node(key)\n",
    "        incrementPreIndex()\n",
    "\n",
    "        if low==high:\n",
    "            return root\n",
    "      \n",
    "        if getpreIndex()<size:\n",
    "            root.left=constructTreeUtil(preorder,preorder[getpreIndex()],low,key,size)\n",
    "        \n",
    "            root.right=constructTreeUtil(preorder,preorder[getpreIndex()],key,high,size)\n",
    "    \n",
    "    return root\n",
    "    \n",
    "def constructTree(preorder):\n",
    "    size=len(preorder)\n",
    "    constructTree.preIndex=0\n",
    "    root=constructTreeUtil(preorder,preorder[0],INTMIN,INTMAX,size)\n",
    "    return root"
   ]
  },
  {
   "cell_type": "code",
   "execution_count": 54,
   "metadata": {},
   "outputs": [],
   "source": [
    "root=constructTree(preorder)"
   ]
  },
  {
   "cell_type": "code",
   "execution_count": 55,
   "metadata": {},
   "outputs": [
    {
     "name": "stdout",
     "output_type": "stream",
     "text": [
      "1 5 7 10 40 50 "
     ]
    }
   ],
   "source": [
    "inorder(root)"
   ]
  },
  {
   "cell_type": "code",
   "execution_count": null,
   "metadata": {},
   "outputs": [],
   "source": []
  }
 ],
 "metadata": {
  "kernelspec": {
   "display_name": "Python 3",
   "language": "python",
   "name": "python3"
  },
  "language_info": {
   "codemirror_mode": {
    "name": "ipython",
    "version": 3
   },
   "file_extension": ".py",
   "mimetype": "text/x-python",
   "name": "python",
   "nbconvert_exporter": "python",
   "pygments_lexer": "ipython3",
   "version": "3.7.6"
  }
 },
 "nbformat": 4,
 "nbformat_minor": 4
}
