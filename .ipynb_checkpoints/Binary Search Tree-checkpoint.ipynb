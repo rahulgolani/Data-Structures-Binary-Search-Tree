{
 "cells": [
  {
   "cell_type": "code",
   "execution_count": 2,
   "metadata": {},
   "outputs": [],
   "source": [
    "class Node:\n",
    "  def __init__(self,data):\n",
    "    self.data=data\n",
    "    self.left=None\n",
    "    self.right=None"
   ]
  },
  {
   "cell_type": "code",
   "execution_count": 39,
   "metadata": {},
   "outputs": [],
   "source": [
    "root=Node(8)\n",
    "root.left=Node(3)\n",
    "root.right=Node(10)\n",
    "root.left.left=Node(1)\n",
    "root.left.right=Node(6)\n",
    "root.left.right.right=Node(7)\n",
    "root.left.right.left=Node(4)\n",
    "root.right.right=Node(14)\n",
    "root.right.right.left=Node(13)"
   ]
  },
  {
   "cell_type": "code",
   "execution_count": 10,
   "metadata": {},
   "outputs": [],
   "source": [
    "def inorder(root):\n",
    "    if root is None:\n",
    "        return\n",
    "    inorder(root.left)\n",
    "    print(root.data,end=\" \")\n",
    "    inorder(root.right)\n",
    "    "
   ]
  },
  {
   "cell_type": "code",
   "execution_count": 4,
   "metadata": {},
   "outputs": [
    {
     "name": "stdout",
     "output_type": "stream",
     "text": [
      "1 3 4 6 7 8 10 13 14 "
     ]
    }
   ],
   "source": [
    "inorder(root)"
   ]
  },
  {
   "cell_type": "code",
   "execution_count": 5,
   "metadata": {},
   "outputs": [],
   "source": [
    "def search(root,key):\n",
    "    if root is None:\n",
    "        return\n",
    "    if root.data==key:\n",
    "        return root.data\n",
    "    elif key<root.data:\n",
    "        return search(root.left,key)\n",
    "    return search(root.right,key)    "
   ]
  },
  {
   "cell_type": "code",
   "execution_count": 6,
   "metadata": {},
   "outputs": [
    {
     "name": "stdout",
     "output_type": "stream",
     "text": [
      "14 Key Found\n"
     ]
    }
   ],
   "source": [
    "result=search(root,14)\n",
    "if result:\n",
    "    print(f\"{result} Key Found\")\n",
    "else:\n",
    "    print(\"Key cannot be found\")"
   ]
  },
  {
   "cell_type": "code",
   "execution_count": 7,
   "metadata": {},
   "outputs": [],
   "source": [
    "def insert(root,key):\n",
    "    if root is None:\n",
    "        root = Node(key)\n",
    "        return root\n",
    "    elif key<root.data:\n",
    "        root.left=insert(root.left,key)\n",
    "    else:\n",
    "        root.right=insert(root.right,key)\n",
    "    return root\n"
   ]
  },
  {
   "cell_type": "code",
   "execution_count": 8,
   "metadata": {},
   "outputs": [
    {
     "data": {
      "text/plain": [
       "<__main__.Node at 0x1f16c7aa648>"
      ]
     },
     "execution_count": 8,
     "metadata": {},
     "output_type": "execute_result"
    }
   ],
   "source": [
    "insert(root,25)"
   ]
  },
  {
   "cell_type": "code",
   "execution_count": 9,
   "metadata": {},
   "outputs": [
    {
     "name": "stdout",
     "output_type": "stream",
     "text": [
      "1 3 4 6 7 8 10 13 14 25 "
     ]
    }
   ],
   "source": [
    "inorder(root)"
   ]
  },
  {
   "cell_type": "code",
   "execution_count": 11,
   "metadata": {},
   "outputs": [
    {
     "data": {
      "text/plain": [
       "<__main__.Node at 0x1f16c7aa648>"
      ]
     },
     "execution_count": 11,
     "metadata": {},
     "output_type": "execute_result"
    }
   ],
   "source": [
    "insert(root,9)"
   ]
  },
  {
   "cell_type": "code",
   "execution_count": 12,
   "metadata": {},
   "outputs": [
    {
     "name": "stdout",
     "output_type": "stream",
     "text": [
      "1 3 4 6 7 8 9 10 13 14 25 "
     ]
    }
   ],
   "source": [
    "inorder(root)"
   ]
  },
  {
   "cell_type": "markdown",
   "metadata": {},
   "source": [
    "# Deletion in BST"
   ]
  },
  {
   "cell_type": "code",
   "execution_count": 37,
   "metadata": {},
   "outputs": [],
   "source": [
    "def minNode(root):\n",
    "    if root is None:\n",
    "        return root\n",
    "    curr=root\n",
    "    while curr.left is not None:\n",
    "        curr=curr.left\n",
    "    return curr\n",
    "\n",
    "def deleteBST(root,key):\n",
    "    if root is None:\n",
    "        return root\n",
    "    if key<root.data:\n",
    "        root.left=deleteBST(root.left,key)\n",
    "    elif key>root.data:\n",
    "        root.right=deleteBST(root.right,key)\n",
    "    else:\n",
    "        if root.left is None:\n",
    "            temp=root.right\n",
    "            root=None\n",
    "            return temp\n",
    "        elif root.right is None:\n",
    "            temp=root.left\n",
    "            root=None\n",
    "            return temp\n",
    "        \n",
    "        temp=minNode(root.right)\n",
    "        root.data=temp.data\n",
    "        root.right=deleteBST(root.right,temp.data)\n",
    "    return root"
   ]
  },
  {
   "cell_type": "code",
   "execution_count": 38,
   "metadata": {},
   "outputs": [
    {
     "name": "stdout",
     "output_type": "stream",
     "text": [
      "10 13 14 "
     ]
    }
   ],
   "source": [
    "inorder(root)"
   ]
  },
  {
   "cell_type": "code",
   "execution_count": 41,
   "metadata": {},
   "outputs": [
    {
     "data": {
      "text/plain": [
       "<__main__.Node at 0x1f16c7d2288>"
      ]
     },
     "execution_count": 41,
     "metadata": {},
     "output_type": "execute_result"
    }
   ],
   "source": [
    "deleteBST(root,8)"
   ]
  },
  {
   "cell_type": "code",
   "execution_count": 43,
   "metadata": {},
   "outputs": [
    {
     "name": "stdout",
     "output_type": "stream",
     "text": [
      "1 3 4 6 7 10 13 14 "
     ]
    }
   ],
   "source": [
    "inorder(root)"
   ]
  },
  {
   "cell_type": "markdown",
   "metadata": {},
   "source": [
    "# Construct Tree from PreOrder Traversal O(n2)"
   ]
  },
  {
   "cell_type": "code",
   "execution_count": 48,
   "metadata": {},
   "outputs": [],
   "source": [
    "def getpreIndex():\n",
    "    return constructTree.preIndex\n",
    "\n",
    "def incrementPreIndex():\n",
    "    constructTree.preIndex+=1\n",
    "\n",
    "def constructTreeUtil(preorder,low,high,size):\n",
    "    if getpreIndex()>=size or low>high:\n",
    "          return\n",
    "    \n",
    "    root=Node(preorder[getpreIndex()])\n",
    "    incrementPreIndex()\n",
    "    if low==high:\n",
    "          return root\n",
    "    \n",
    "    if getpreIndex()<size:\n",
    "        \n",
    "        for i in range(getpreIndex(),size):\n",
    "            if preorder[i]>root.data:\n",
    "                break\n",
    "        root.left=constructTreeUtil(preorder,getpreIndex(),i-1,size)\n",
    "        root.right=constructTreeUtil(preorder,i,high,size)\n",
    "    return root\n",
    "\n",
    "    \n",
    "def constructTree(preorder):\n",
    "    size=len(preorder)\n",
    "    constructTree.preIndex=0\n",
    "    root=constructTreeUtil(preorder,0,size-1,size)\n",
    "    return root\n"
   ]
  },
  {
   "cell_type": "code",
   "execution_count": 49,
   "metadata": {},
   "outputs": [],
   "source": [
    "preorder=[10, 5, 1, 7, 40, 50]"
   ]
  },
  {
   "cell_type": "code",
   "execution_count": 50,
   "metadata": {},
   "outputs": [],
   "source": [
    "root=constructTree(preorder)"
   ]
  },
  {
   "cell_type": "code",
   "execution_count": 52,
   "metadata": {},
   "outputs": [
    {
     "name": "stdout",
     "output_type": "stream",
     "text": [
      "1 5 7 10 40 50 "
     ]
    }
   ],
   "source": [
    "inorder(root)"
   ]
  },
  {
   "cell_type": "markdown",
   "metadata": {},
   "source": [
    "# Construction from preorder traversal O(n)"
   ]
  },
  {
   "cell_type": "code",
   "execution_count": 53,
   "metadata": {},
   "outputs": [],
   "source": [
    "INTMIN=float(\"-infinity\")\n",
    "INTMAX=float(\"infinity\")\n",
    "\n",
    "def getpreIndex():\n",
    "    return constructTree.preIndex\n",
    "\n",
    "def incrementPreIndex():\n",
    "    constructTree.preIndex+=1\n",
    "\n",
    "def constructTreeUtil(preorder,key,low,high,size):\n",
    "    if getpreIndex()>=size or low>high:\n",
    "        return\n",
    "\n",
    "    root=None\n",
    "    \n",
    "    if key>low and key<high:\n",
    "        \n",
    "        root=Node(key)\n",
    "        incrementPreIndex()\n",
    "\n",
    "        if low==high:\n",
    "            return root\n",
    "      \n",
    "        if getpreIndex()<size:\n",
    "            root.left=constructTreeUtil(preorder,preorder[getpreIndex()],low,key,size)\n",
    "        \n",
    "            root.right=constructTreeUtil(preorder,preorder[getpreIndex()],key,high,size)\n",
    "    \n",
    "    return root\n",
    "    \n",
    "def constructTree(preorder):\n",
    "    size=len(preorder)\n",
    "    constructTree.preIndex=0\n",
    "    root=constructTreeUtil(preorder,preorder[0],INTMIN,INTMAX,size)\n",
    "    return root"
   ]
  },
  {
   "cell_type": "code",
   "execution_count": 54,
   "metadata": {},
   "outputs": [],
   "source": [
    "root=constructTree(preorder)"
   ]
  },
  {
   "cell_type": "code",
   "execution_count": 55,
   "metadata": {},
   "outputs": [
    {
     "name": "stdout",
     "output_type": "stream",
     "text": [
      "1 5 7 10 40 50 "
     ]
    }
   ],
   "source": [
    "inorder(root)"
   ]
  },
  {
   "cell_type": "markdown",
   "metadata": {},
   "source": [
    "# # Construction from preorder traversal O(n)- Stack Approach"
   ]
  },
  {
   "cell_type": "code",
   "execution_count": 57,
   "metadata": {},
   "outputs": [],
   "source": [
    "def createTree(preorder):\n",
    "    \n",
    "    stack=[]\n",
    "    root=Node(preorder[0])\n",
    "    stack.append(root)\n",
    "    curr=root  \n",
    "    for i in range(1,len(preorder)):\n",
    "        if preorder[i]<stack[-1].data:\n",
    "            curr.left=Node(preorder[i])\n",
    "            curr=curr.left\n",
    "            stack.append(curr)\n",
    "        else:\n",
    "            while stack and preorder[i]>stack[-1].data:\n",
    "                temp=stack.pop(-1)\n",
    "            temp.right=Node(preorder[i])\n",
    "            curr=temp.right\n",
    "            stack.append(curr)\n",
    "    return root\n"
   ]
  },
  {
   "cell_type": "code",
   "execution_count": 61,
   "metadata": {},
   "outputs": [],
   "source": [
    "root=createTree(preorder)"
   ]
  },
  {
   "cell_type": "code",
   "execution_count": 62,
   "metadata": {},
   "outputs": [
    {
     "name": "stdout",
     "output_type": "stream",
     "text": [
      "1 5 7 10 40 50 "
     ]
    }
   ],
   "source": [
    "inorder(root)"
   ]
  },
  {
   "cell_type": "markdown",
   "metadata": {},
   "source": [
    "# Binary Tree to BST"
   ]
  },
  {
   "cell_type": "code",
   "execution_count": 63,
   "metadata": {},
   "outputs": [],
   "source": [
    "root=Node(10)\n",
    "root.left=Node(2)\n",
    "root.right=Node(7)\n",
    "root.left.left=Node(8)\n",
    "root.left.right=Node(4)"
   ]
  },
  {
   "cell_type": "code",
   "execution_count": 64,
   "metadata": {},
   "outputs": [
    {
     "name": "stdout",
     "output_type": "stream",
     "text": [
      "8 2 4 10 7 "
     ]
    }
   ],
   "source": [
    "inorder(root)"
   ]
  },
  {
   "cell_type": "code",
   "execution_count": 80,
   "metadata": {},
   "outputs": [],
   "source": [
    "def storeInorder(root,arr):\n",
    "    if root is None:\n",
    "        return\n",
    "    storeInorder(root.left,arr)\n",
    "    arr.append(root.data)\n",
    "    storeInorder(root.right,arr)\n",
    "\n",
    "def BTtoBSTUtil(root,arr,i):\n",
    "    if root is None:\n",
    "        return\n",
    "    BTtoBSTUtil(root.left,arr,i)\n",
    "    root.data=arr[i[0]]\n",
    "    i[0]+=1\n",
    "    BTtoBSTUtil(root.right,arr,i)\n",
    "    \n",
    "def BTtoBST(root):\n",
    "    arr=[]\n",
    "    storeInorder(root,arr)\n",
    "    arr.sort()\n",
    "    i=[0]\n",
    "    BTtoBSTUtil(root,arr,i)\n",
    "    "
   ]
  },
  {
   "cell_type": "code",
   "execution_count": 81,
   "metadata": {},
   "outputs": [
    {
     "name": "stdout",
     "output_type": "stream",
     "text": [
      "8 2 4 10 7 "
     ]
    }
   ],
   "source": [
    "inorder(root)"
   ]
  },
  {
   "cell_type": "code",
   "execution_count": 82,
   "metadata": {},
   "outputs": [],
   "source": [
    "BTtoBST(root)"
   ]
  },
  {
   "cell_type": "code",
   "execution_count": 83,
   "metadata": {},
   "outputs": [
    {
     "name": "stdout",
     "output_type": "stream",
     "text": [
      "2 4 7 8 10 "
     ]
    }
   ],
   "source": [
    "inorder(root)"
   ]
  },
  {
   "cell_type": "markdown",
   "metadata": {},
   "source": [
    "# Sorted LL to BST -O(nlogn)"
   ]
  },
  {
   "cell_type": "code",
   "execution_count": 84,
   "metadata": {},
   "outputs": [],
   "source": [
    "class Lnode:\n",
    "    def __init__(self,data):\n",
    "        self.data=data\n",
    "        self.next=None\n",
    "\n",
    "#class LinkedList:\n",
    "\n",
    "head = None\n",
    "\n",
    "def push(data):\n",
    "    global head\n",
    "    temp=Lnode(data)\n",
    "    if head is None:\n",
    "        head=temp\n",
    "        return\n",
    "    temp.next=head\n",
    "    head=temp\n",
    "\n",
    "def traverseLL():\n",
    "    global head\n",
    "    if head is None:\n",
    "        return\n",
    "    temp=head\n",
    "    while temp:\n",
    "        print(temp.data,end=\" \")\n",
    "        temp=temp.next\n",
    "    print()\n",
    "\n",
    "\n",
    "def SLLToBST(head,tail):\n",
    "    if head is tail:\n",
    "        return None\n",
    "    slow=head\n",
    "    fast=head\n",
    "    while fast!=tail and fast.next!=tail:\n",
    "        slow=slow.next\n",
    "        fast=fast.next.next\n",
    "    root=Node(slow.data)\n",
    "    root.left=SLLToBST(head,slow)\n",
    "    root.right=SLLToBST(slow.next,tail)\n",
    "    return root\n"
   ]
  },
  {
   "cell_type": "code",
   "execution_count": 85,
   "metadata": {},
   "outputs": [],
   "source": [
    "\n",
    "push(7)\n",
    "push(6)\n",
    "push(5)\n",
    "push(4)\n",
    "push(3)\n",
    "push(2)\n",
    "push(1)\n",
    "#traverseLL()\n",
    "#print(head.data)\n",
    "\n",
    "root=SLLToBST(head,None)\n",
    "\n"
   ]
  },
  {
   "cell_type": "code",
   "execution_count": 86,
   "metadata": {},
   "outputs": [
    {
     "name": "stdout",
     "output_type": "stream",
     "text": [
      "1 2 3 4 5 6 7 "
     ]
    }
   ],
   "source": [
    "inorder(root)"
   ]
  },
  {
   "cell_type": "markdown",
   "metadata": {},
   "source": [
    "# Sorted LL to BST - O(n) "
   ]
  },
  {
   "cell_type": "code",
   "execution_count": 95,
   "metadata": {},
   "outputs": [],
   "source": [
    "def countNodes():\n",
    "    n=0\n",
    "    if head is None:\n",
    "        return 0\n",
    "    temp=head\n",
    "    while temp:\n",
    "        n+=1\n",
    "        temp=temp.next\n",
    "    return n\n",
    "\n",
    "def SLLToBSTRecur(n):\n",
    "    global head\n",
    "    if n<=0:\n",
    "        return None\n",
    "    left=SLLToBSTRecur(n//2)\n",
    "    root=Node(head.data)\n",
    "    root.left=left\n",
    "\n",
    "    head=head.next\n",
    "\n",
    "    root.right=SLLToBSTRecur(n-n//2-1)\n",
    "    return root\n",
    "\n",
    "def SLLToBST():\n",
    "    n=countNodes()\n",
    "    #print(n)\n",
    "    root=SLLToBSTRecur(n)\n",
    "    return root\n"
   ]
  },
  {
   "cell_type": "code",
   "execution_count": 96,
   "metadata": {},
   "outputs": [],
   "source": [
    "root=SLLToBST()"
   ]
  },
  {
   "cell_type": "code",
   "execution_count": 97,
   "metadata": {},
   "outputs": [
    {
     "name": "stdout",
     "output_type": "stream",
     "text": [
      "1 2 3 4 5 6 7 "
     ]
    }
   ],
   "source": [
    "inorder(root)"
   ]
  },
  {
   "cell_type": "markdown",
   "metadata": {},
   "source": [
    "# Sorted Array To BST - O(n)"
   ]
  },
  {
   "cell_type": "code",
   "execution_count": 15,
   "metadata": {},
   "outputs": [],
   "source": [
    "def createBSTfromArr(arr):\n",
    "    if len(arr)<=0:\n",
    "        return None\n",
    "    n=len(arr)\n",
    "    mid=n//2\n",
    "    root=Node(arr[mid])\n",
    "    root.left=createBSTfromArr(arr[:mid])\n",
    "    root.right=createBSTfromArr(arr[mid+1:])\n",
    "    return root"
   ]
  },
  {
   "cell_type": "code",
   "execution_count": 16,
   "metadata": {},
   "outputs": [],
   "source": [
    "arr=[1,2,3,4,5,6,7]"
   ]
  },
  {
   "cell_type": "code",
   "execution_count": 17,
   "metadata": {},
   "outputs": [],
   "source": [
    "root=createBSTfromArr(arr)"
   ]
  },
  {
   "cell_type": "code",
   "execution_count": 18,
   "metadata": {},
   "outputs": [
    {
     "name": "stdout",
     "output_type": "stream",
     "text": [
      "1 2 3 4 5 6 7 "
     ]
    }
   ],
   "source": [
    "inorder(root)"
   ]
  },
  {
   "cell_type": "markdown",
   "metadata": {},
   "source": [
    "# Transform BST to Greater Sum Tree\n",
    "\n",
    "Given a BST, transform it into greater sum tree where each node contains sum of all nodes greater than that node."
   ]
  },
  {
   "cell_type": "code",
   "execution_count": 25,
   "metadata": {},
   "outputs": [],
   "source": [
    "def storeInorder(root,arr):\n",
    "    if root is None:\n",
    "        return\n",
    "    storeInorder(root.left,arr)\n",
    "    arr.append(root.data)\n",
    "    storeInorder(root.right,arr)\n",
    "\n",
    "def BSTtoGST(root):\n",
    "    arr=[]\n",
    "    storeInorder(root,arr)\n",
    "    total=[sum(arr)]\n",
    "    BSTtoGSTRecur(root,total)\n",
    "    \n",
    "def BSTtoGSTRecur(root,total):\n",
    "    if root is None:\n",
    "        return\n",
    "    BSTtoGSTRecur(root.left,total)\n",
    "    root.data=total[0]-root.data\n",
    "    total[0]=root.data\n",
    "    BSTtoGSTRecur(root.right,total)"
   ]
  },
  {
   "cell_type": "code",
   "execution_count": 26,
   "metadata": {},
   "outputs": [],
   "source": [
    "root=Node(11)\n",
    "root.left=Node(2)\n",
    "root.right=Node(29)\n",
    "root.left.left=Node(1)\n",
    "root.left.right=Node(7)\n",
    "root.right.left=Node(15)\n",
    "root.right.right=Node(40)\n",
    "root.right.right.left=Node(35)"
   ]
  },
  {
   "cell_type": "code",
   "execution_count": 27,
   "metadata": {},
   "outputs": [
    {
     "name": "stdout",
     "output_type": "stream",
     "text": [
      "1 2 7 11 15 29 35 40 "
     ]
    }
   ],
   "source": [
    "inorder(root)"
   ]
  },
  {
   "cell_type": "code",
   "execution_count": 28,
   "metadata": {},
   "outputs": [],
   "source": [
    "BSTtoGST(root)"
   ]
  },
  {
   "cell_type": "code",
   "execution_count": 29,
   "metadata": {},
   "outputs": [
    {
     "name": "stdout",
     "output_type": "stream",
     "text": [
      "139 137 130 119 104 75 40 0 "
     ]
    }
   ],
   "source": [
    "inorder(root)"
   ]
  },
  {
   "cell_type": "markdown",
   "metadata": {},
   "source": [
    "# Transform BST to Greater Sum Tree Approach(2)-Removing Unnecessary Traversal\n",
    "\n",
    "Given a BST, transform it into greater sum tree where each node contains sum of all nodes greater than that node."
   ]
  },
  {
   "cell_type": "code",
   "execution_count": 30,
   "metadata": {},
   "outputs": [],
   "source": [
    "def BSTtoGST2(root):\n",
    "    #arr=[]\n",
    "    #storeInorder(root,arr)\n",
    "    total=[0]\n",
    "    BSTtoGSTRecur2(root,total)\n",
    "    \n",
    "def BSTtoGSTRecur2(root,total):\n",
    "    if root is None:\n",
    "        return\n",
    "    BSTtoGSTRecur2(root.right,total)\n",
    "    temp=root.data\n",
    "    root.data=total[0]\n",
    "    total[0]+=temp\n",
    "    BSTtoGSTRecur2(root.left,total)"
   ]
  },
  {
   "cell_type": "code",
   "execution_count": 31,
   "metadata": {},
   "outputs": [],
   "source": [
    "root=Node(11)\n",
    "root.left=Node(2)\n",
    "root.right=Node(29)\n",
    "root.left.left=Node(1)\n",
    "root.left.right=Node(7)\n",
    "root.right.left=Node(15)\n",
    "root.right.right=Node(40)\n",
    "root.right.right.left=Node(35)"
   ]
  },
  {
   "cell_type": "code",
   "execution_count": 32,
   "metadata": {},
   "outputs": [
    {
     "name": "stdout",
     "output_type": "stream",
     "text": [
      "1 2 7 11 15 29 35 40 "
     ]
    }
   ],
   "source": [
    "inorder(root)"
   ]
  },
  {
   "cell_type": "code",
   "execution_count": 33,
   "metadata": {},
   "outputs": [],
   "source": [
    "BSTtoGST2(root)"
   ]
  },
  {
   "cell_type": "code",
   "execution_count": 34,
   "metadata": {},
   "outputs": [
    {
     "name": "stdout",
     "output_type": "stream",
     "text": [
      "139 137 130 119 104 75 40 0 "
     ]
    }
   ],
   "source": [
    "inorder(root)"
   ]
  },
  {
   "cell_type": "markdown",
   "metadata": {},
   "source": [
    "## Possible BST from keys  1 to n"
   ]
  },
  {
   "cell_type": "code",
   "execution_count": 1,
   "metadata": {},
   "outputs": [],
   "source": [
    "def preorder(root):\n",
    "    if root is None:\n",
    "        return\n",
    "    print(root.data,end=\" \")\n",
    "    preorder(root.left)\n",
    "    preorder(root.right)"
   ]
  },
  {
   "cell_type": "code",
   "execution_count": 3,
   "metadata": {},
   "outputs": [],
   "source": [
    "def createBST(start,end):\n",
    "    list=[]\n",
    "    if start>end:\n",
    "        list.append(None)\n",
    "        return list\n",
    "    for i in range(start,end+1):\n",
    "        leftSubTree=createBST(start,i-1)\n",
    "        rightSubTree=createBST(i+1,end)\n",
    "\n",
    "        for j in range(len(leftSubTree)):\n",
    "            left=leftSubTree[j]\n",
    "            for k in range(len(rightSubTree)):\n",
    "                right=rightSubTree[k]\n",
    "                node=Node(i)\n",
    "                node.left=left\n",
    "                node.right=right\n",
    "                list.append(node)\n",
    "    return list"
   ]
  },
  {
   "cell_type": "code",
   "execution_count": 7,
   "metadata": {},
   "outputs": [
    {
     "name": "stdout",
     "output_type": "stream",
     "text": [
      "1 2 3 \n",
      "1 3 2 \n",
      "2 1 3 \n",
      "3 1 2 \n",
      "3 2 1 \n"
     ]
    }
   ],
   "source": [
    "totalTrees=createBST(1,3)\n",
    "for i in totalTrees:\n",
    "    preorder(i)\n",
    "    print()"
   ]
  },
  {
   "cell_type": "markdown",
   "metadata": {},
   "source": [
    "## Convert a BST to a Binary Tree such that sum of all greater keys is added to every key\n",
    "\n",
    "Given a Binary Search Tree (BST), convert it to a Binary Tree such that every key of the original BST is changed to key plus sum of all greater keys in BST."
   ]
  },
  {
   "cell_type": "code",
   "execution_count": 25,
   "metadata": {},
   "outputs": [],
   "source": [
    "def BSTtoSGSTRecur(root,total):\n",
    "    if root is None:\n",
    "        return None\n",
    "    BSTtoSGSTRecur(root.right,total)\n",
    "    root.data+=total[0]\n",
    "    total[0]=root.data\n",
    "    BSTtoSGSTRecur(root.left,total)\n",
    "\n",
    "def BSTtoSGST(root):\n",
    "    total=[0]\n",
    "    BSTtoSGSTRecur(root,total)\n",
    "    "
   ]
  },
  {
   "cell_type": "code",
   "execution_count": 26,
   "metadata": {},
   "outputs": [],
   "source": [
    "root=Node(5)\n",
    "root.left=Node(2)\n",
    "root.right=Node(13)"
   ]
  },
  {
   "cell_type": "code",
   "execution_count": 27,
   "metadata": {},
   "outputs": [],
   "source": [
    "BSTtoSGST(root)"
   ]
  },
  {
   "cell_type": "code",
   "execution_count": 28,
   "metadata": {},
   "outputs": [
    {
     "name": "stdout",
     "output_type": "stream",
     "text": [
      "20 18 13 "
     ]
    }
   ],
   "source": [
    "inorder(root)"
   ]
  },
  {
   "cell_type": "markdown",
   "metadata": {},
   "source": [
    "## BST to a Tree with sum of all smaller keys\n",
    "\n",
    "Given a Binary Search Tree(BST), convert it to a Binary Tree such that every key of the original BST is changed to key plus sum of all smaller keys in BST."
   ]
  },
  {
   "cell_type": "code",
   "execution_count": 35,
   "metadata": {},
   "outputs": [],
   "source": [
    "def BSTtoSSTRecur(root,total):\n",
    "    if root is None:\n",
    "        return None\n",
    "    BSTtoSSTRecur(root.left,total)\n",
    "    root.data+=total[0]\n",
    "    total[0]=root.data\n",
    "    BSTtoSSTRecur(root.right,total)\n",
    "\n",
    "def BSTtoSST(root):\n",
    "    total=[0]\n",
    "    BSTtoSSTRecur(root,total)\n",
    "    "
   ]
  },
  {
   "cell_type": "code",
   "execution_count": 36,
   "metadata": {},
   "outputs": [],
   "source": [
    "root=Node(9)\n",
    "root.left=Node(6)\n",
    "root.right=Node(15)\n",
    "root.left.left=Node(3)\n",
    "root.right.right=Node(21)"
   ]
  },
  {
   "cell_type": "code",
   "execution_count": 37,
   "metadata": {},
   "outputs": [],
   "source": [
    "BSTtoSST(root)"
   ]
  },
  {
   "cell_type": "code",
   "execution_count": 38,
   "metadata": {},
   "outputs": [
    {
     "name": "stdout",
     "output_type": "stream",
     "text": [
      "3 9 18 33 54 "
     ]
    }
   ],
   "source": [
    "inorder(root)"
   ]
  },
  {
   "cell_type": "markdown",
   "metadata": {},
   "source": [
    "## BST to MinHeap (In-Place)"
   ]
  },
  {
   "cell_type": "code",
   "execution_count": 39,
   "metadata": {},
   "outputs": [
    {
     "name": "stdout",
     "output_type": "stream",
     "text": [
      "2 4 6 8 10 12 14 \n",
      "8 4 10 2 12 6 14 "
     ]
    }
   ],
   "source": [
    "class Node:\n",
    "    def __init__(self,data):\n",
    "        self.data=data\n",
    "        self.left=None\n",
    "        self.right=None\n",
    "\n",
    "def BSTToSLL(root,head):\n",
    "    if root is None:\n",
    "        return\n",
    "    BSTToSLL(root.right,head)\n",
    "    root.right=head[0]#temp.next=head\n",
    "    if head[0]!=None:\n",
    "        head[0].left=None\n",
    "    head[0]=root#head=temp\n",
    "    BSTToSLL(root.left,head)\n",
    "\n",
    "def traverseLL(head):\n",
    "    while head[0]:\n",
    "        print(head[0].data,end=\" \")\n",
    "        head[0]=head[0].right\n",
    "\n",
    "def SLLtoMheap(root,head):\n",
    "    if head[0] is None:\n",
    "        return None\n",
    "    root[0]=head[0]\n",
    "    head[0]=head[0].right\n",
    "    root[0].right=None\n",
    "\n",
    "    queue=[]\n",
    "    queue.append(root[0])\n",
    "\n",
    "    while head[0]:\n",
    "        parent=queue.pop(0)\n",
    "\n",
    "        leftChild=head[0]\n",
    "        head[0]=head[0].right\n",
    "        leftChild.right=None\n",
    "        parent.left=leftChild\n",
    "\n",
    "        queue.append(leftChild)\n",
    "\n",
    "        if head[0]:\n",
    "\n",
    "            rightChild=head[0]\n",
    "            head[0]=head[0].right\n",
    "            rightChild.right=None\n",
    "            parent.right=rightChild\n",
    "\n",
    "            queue.append(rightChild)\n",
    "\n",
    "\n",
    "def BSTtoMinHeap(root):\n",
    "    head=[None]\n",
    "    BSTToSLL(root,head)\n",
    "    #traverseLL(head)\n",
    "    root=[None]\n",
    "    SLLtoMheap(root,head)\n",
    "    return root[0]\n",
    "\n",
    "def inorder(root):\n",
    "    if root is None:\n",
    "        return\n",
    "    inorder(root.left)\n",
    "    print(root.data,end=\" \")\n",
    "    inorder(root.right)\n",
    "\n",
    "if __name__ == '__main__':\n",
    "    root = Node(8)\n",
    "    root.left = Node(4)\n",
    "    root.right = Node(12)\n",
    "    root.right.left = Node(10)\n",
    "    root.right.right = Node(14)\n",
    "    root.left.left = Node(2)\n",
    "    root.left.right = Node(6)\n",
    "    inorder(root)\n",
    "    print()\n",
    "    root=BSTtoMinHeap(root)\n",
    "    inorder(root)\n"
   ]
  },
  {
   "cell_type": "markdown",
   "metadata": {},
   "source": [
    "## BST to MinHeap-O(n) space\n",
    "Given a binary search tree which is also a complete binary tree. The problem is to convert the given BST into a Min Heap with the condition that all the values in the left subtree of a node should be less than all the values in the right subtree of the node. This condition is applied on all the nodes in the so converted Min Heap."
   ]
  },
  {
   "cell_type": "code",
   "execution_count": 41,
   "metadata": {},
   "outputs": [
    {
     "name": "stdout",
     "output_type": "stream",
     "text": [
      "1 2 3 4 5 6 7 \n",
      "3 2 4 1 6 5 7 "
     ]
    }
   ],
   "source": [
    "class Node:\n",
    "    def __init__(self,data):\n",
    "        self.data=data\n",
    "        self.left=None\n",
    "        self.right=None\n",
    "\n",
    "def inorderStore(root,arr):\n",
    "    if root is None:\n",
    "        return\n",
    "    inorderStore(root.left,arr)\n",
    "    arr.append(root.data)\n",
    "    inorderStore(root.right,arr)\n",
    "\n",
    "def BSTtoMheapRecur(root,arr,i):\n",
    "    if root is None:\n",
    "        return\n",
    "    root.data=arr[i[0]]\n",
    "    i[0]+=1\n",
    "    BSTtoMheapRecur(root.left,arr,i)\n",
    "    BSTtoMheapRecur(root.right,arr,i)\n",
    "\n",
    "def BSTtoMheap(root):\n",
    "    if root is None:\n",
    "        return None\n",
    "    arr=[]\n",
    "    inorderStore(root,arr)\n",
    "    i=[0]\n",
    "    BSTtoMheapRecur(root,arr,i)\n",
    "\n",
    "def inorder(root):\n",
    "    if root is None:\n",
    "        return\n",
    "    inorder(root.left)\n",
    "    print(root.data,end=\" \")\n",
    "    inorder(root.right)\n",
    "\n",
    "if __name__ == '__main__':\n",
    "    root=Node(4)\n",
    "    root.left=Node(2)\n",
    "    root.right=Node(6)\n",
    "    root.left.left=Node(1)\n",
    "    root.left.right=Node(3)\n",
    "    root.right.left=Node(5)\n",
    "    root.right.right=Node(7)\n",
    "    inorder(root)\n",
    "    print()\n",
    "    BSTtoMheap(root)\n",
    "    inorder(root)\n"
   ]
  },
  {
   "cell_type": "code",
   "execution_count": null,
   "metadata": {},
   "outputs": [],
   "source": []
  },
  {
   "cell_type": "code",
   "execution_count": null,
   "metadata": {},
   "outputs": [],
   "source": []
  }
 ],
 "metadata": {
  "kernelspec": {
   "display_name": "Python 3",
   "language": "python",
   "name": "python3"
  },
  "language_info": {
   "codemirror_mode": {
    "name": "ipython",
    "version": 3
   },
   "file_extension": ".py",
   "mimetype": "text/x-python",
   "name": "python",
   "nbconvert_exporter": "python",
   "pygments_lexer": "ipython3",
   "version": "3.7.6"
  }
 },
 "nbformat": 4,
 "nbformat_minor": 4
}
