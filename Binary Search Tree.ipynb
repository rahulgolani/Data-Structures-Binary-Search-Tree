{
 "cells": [
  {
   "cell_type": "markdown",
   "metadata": {},
   "source": [
    "# BASIC"
   ]
  },
  {
   "cell_type": "markdown",
   "metadata": {},
   "source": [
    "## Node Structure"
   ]
  },
  {
   "cell_type": "code",
   "execution_count": 2,
   "metadata": {},
   "outputs": [],
   "source": [
    "class Node:\n",
    "  def __init__(self,data):\n",
    "    self.data=data\n",
    "    self.left=None\n",
    "    self.right=None"
   ]
  },
  {
   "cell_type": "code",
   "execution_count": 39,
   "metadata": {},
   "outputs": [],
   "source": [
    "root=Node(8)\n",
    "root.left=Node(3)\n",
    "root.right=Node(10)\n",
    "root.left.left=Node(1)\n",
    "root.left.right=Node(6)\n",
    "root.left.right.right=Node(7)\n",
    "root.left.right.left=Node(4)\n",
    "root.right.right=Node(14)\n",
    "root.right.right.left=Node(13)"
   ]
  },
  {
   "cell_type": "code",
   "execution_count": 10,
   "metadata": {},
   "outputs": [],
   "source": [
    "def inorder(root):\n",
    "    if root is None:\n",
    "        return\n",
    "    inorder(root.left)\n",
    "    print(root.data,end=\" \")\n",
    "    inorder(root.right)\n",
    "    "
   ]
  },
  {
   "cell_type": "code",
   "execution_count": 4,
   "metadata": {},
   "outputs": [
    {
     "name": "stdout",
     "output_type": "stream",
     "text": [
      "1 3 4 6 7 8 10 13 14 "
     ]
    }
   ],
   "source": [
    "inorder(root)"
   ]
  },
  {
   "cell_type": "markdown",
   "metadata": {},
   "source": [
    "## Search in BST"
   ]
  },
  {
   "cell_type": "code",
   "execution_count": 5,
   "metadata": {},
   "outputs": [],
   "source": [
    "def search(root,key):\n",
    "    if root is None:\n",
    "        return\n",
    "    if root.data==key:\n",
    "        return root.data\n",
    "    elif key<root.data:\n",
    "        return search(root.left,key)\n",
    "    return search(root.right,key)    "
   ]
  },
  {
   "cell_type": "code",
   "execution_count": 6,
   "metadata": {},
   "outputs": [
    {
     "name": "stdout",
     "output_type": "stream",
     "text": [
      "14 Key Found\n"
     ]
    }
   ],
   "source": [
    "result=search(root,14)\n",
    "if result:\n",
    "    print(f\"{result} Key Found\")\n",
    "else:\n",
    "    print(\"Key cannot be found\")"
   ]
  },
  {
   "cell_type": "markdown",
   "metadata": {},
   "source": [
    "## Insertion in BST"
   ]
  },
  {
   "cell_type": "markdown",
   "metadata": {},
   "source": [
    "Recursive Approach"
   ]
  },
  {
   "cell_type": "code",
   "execution_count": 7,
   "metadata": {},
   "outputs": [],
   "source": [
    "def insert(root,key):\n",
    "    if root is None:\n",
    "        root = Node(key)\n",
    "        return root\n",
    "    elif key<root.data:\n",
    "        root.left=insert(root.left,key)\n",
    "    else:\n",
    "        root.right=insert(root.right,key)\n",
    "    return root\n"
   ]
  },
  {
   "cell_type": "code",
   "execution_count": 8,
   "metadata": {},
   "outputs": [
    {
     "data": {
      "text/plain": [
       "<__main__.Node at 0x1f16c7aa648>"
      ]
     },
     "execution_count": 8,
     "metadata": {},
     "output_type": "execute_result"
    }
   ],
   "source": [
    "insert(root,25)"
   ]
  },
  {
   "cell_type": "code",
   "execution_count": 9,
   "metadata": {},
   "outputs": [
    {
     "name": "stdout",
     "output_type": "stream",
     "text": [
      "1 3 4 6 7 8 10 13 14 25 "
     ]
    }
   ],
   "source": [
    "inorder(root)"
   ]
  },
  {
   "cell_type": "code",
   "execution_count": 11,
   "metadata": {},
   "outputs": [
    {
     "data": {
      "text/plain": [
       "<__main__.Node at 0x1f16c7aa648>"
      ]
     },
     "execution_count": 11,
     "metadata": {},
     "output_type": "execute_result"
    }
   ],
   "source": [
    "insert(root,9)"
   ]
  },
  {
   "cell_type": "code",
   "execution_count": 12,
   "metadata": {},
   "outputs": [
    {
     "name": "stdout",
     "output_type": "stream",
     "text": [
      "1 3 4 6 7 8 9 10 13 14 25 "
     ]
    }
   ],
   "source": [
    "inorder(root)"
   ]
  },
  {
   "cell_type": "markdown",
   "metadata": {},
   "source": [
    "**Iterative Approach**"
   ]
  },
  {
   "cell_type": "code",
   "execution_count": 1,
   "metadata": {},
   "outputs": [
    {
     "name": "stdout",
     "output_type": "stream",
     "text": [
      "10 20 30 100 400 500 "
     ]
    }
   ],
   "source": [
    "class Node:\n",
    "    def __init__(self,data):\n",
    "        self.data=data\n",
    "        self.left=None\n",
    "        self.right=None\n",
    "\n",
    "def insert(root,key):\n",
    "    if root is None:\n",
    "        root=Node(key)\n",
    "        return root\n",
    "    while root:\n",
    "        if key<root.data:\n",
    "            if root.left is None:\n",
    "                root.left=Node(key)\n",
    "                break\n",
    "            else:\n",
    "                root=root.left\n",
    "        else:\n",
    "            if root.right is None:\n",
    "                root.right=Node(key)\n",
    "                break\n",
    "            else:\n",
    "                root=root.right\n",
    "\n",
    "def traverse(root):\n",
    "    if root is None:\n",
    "        return\n",
    "    queue=[]\n",
    "    queue.append(root)\n",
    "    while queue:\n",
    "        temp=queue.pop(0)\n",
    "        print(temp.data,end=\" \")\n",
    "        if temp.left:\n",
    "            queue.append(temp.left)\n",
    "        if temp.right:\n",
    "            queue.append(temp.right)\n",
    "\n",
    "def inorder(root):\n",
    "    if root is None:\n",
    "        return\n",
    "    inorder(root.left)\n",
    "    print(root.data,end=\" \")\n",
    "    inorder(root.right)\n",
    "\n",
    "if __name__ == '__main__':\n",
    "    root=Node(100)\n",
    "    insert(root,20)\n",
    "    insert(root,500)\n",
    "    insert(root,10)\n",
    "    insert(root,30)\n",
    "    insert(root,400)\n",
    "    inorder(root)\n"
   ]
  },
  {
   "cell_type": "markdown",
   "metadata": {},
   "source": [
    "# Deletion in BST"
   ]
  },
  {
   "cell_type": "code",
   "execution_count": 37,
   "metadata": {},
   "outputs": [],
   "source": [
    "def minNode(root):\n",
    "    if root is None:\n",
    "        return root\n",
    "    curr=root\n",
    "    while curr.left is not None:\n",
    "        curr=curr.left\n",
    "    return curr\n",
    "\n",
    "def deleteBST(root,key):\n",
    "    if root is None:\n",
    "        return root\n",
    "    if key<root.data:\n",
    "        root.left=deleteBST(root.left,key)\n",
    "    elif key>root.data:\n",
    "        root.right=deleteBST(root.right,key)\n",
    "    else:\n",
    "        if root.left is None:\n",
    "            temp=root.right\n",
    "            root=None\n",
    "            return temp\n",
    "        elif root.right is None:\n",
    "            temp=root.left\n",
    "            root=None\n",
    "            return temp\n",
    "        \n",
    "        temp=minNode(root.right)\n",
    "        root.data=temp.data\n",
    "        root.right=deleteBST(root.right,temp.data)\n",
    "    return root"
   ]
  },
  {
   "cell_type": "code",
   "execution_count": 38,
   "metadata": {},
   "outputs": [
    {
     "name": "stdout",
     "output_type": "stream",
     "text": [
      "10 13 14 "
     ]
    }
   ],
   "source": [
    "inorder(root)"
   ]
  },
  {
   "cell_type": "code",
   "execution_count": 41,
   "metadata": {},
   "outputs": [
    {
     "data": {
      "text/plain": [
       "<__main__.Node at 0x1f16c7d2288>"
      ]
     },
     "execution_count": 41,
     "metadata": {},
     "output_type": "execute_result"
    }
   ],
   "source": [
    "deleteBST(root,8)"
   ]
  },
  {
   "cell_type": "code",
   "execution_count": 43,
   "metadata": {},
   "outputs": [
    {
     "name": "stdout",
     "output_type": "stream",
     "text": [
      "1 3 4 6 7 10 13 14 "
     ]
    }
   ],
   "source": [
    "inorder(root)"
   ]
  },
  {
   "cell_type": "markdown",
   "metadata": {},
   "source": [
    "# Advantages of BST over Hash Table"
   ]
  },
  {
   "cell_type": "markdown",
   "metadata": {},
   "source": [
    "Hash Table supports following operations in Θ(1) time.\n",
    "1) Search\n",
    "2) Insert\n",
    "3) Delete\n",
    "\n",
    "The time complexity of above operations in a self-balancing Binary Search Tree (BST) (like Red-Black Tree, AVL Tree, Splay Tree, etc) is O(Logn)."
   ]
  },
  {
   "cell_type": "markdown",
   "metadata": {},
   "source": [
    "So Hash Table seems to beating BST in all common operations. When should we prefer BST over Hash Tables, what are advantages. Following are some important points in favor of BSTs.\n",
    "\n",
    "We can **get all keys in sorted order by just doing Inorder Traversal of BST**. This is not a natural operation in Hash Tables and requires extra efforts.\n",
    "\n",
    "Doing **order statistics**, finding closest lower and greater elements, doing range queries are easy to do with BSTs. Like sorting, these operations are not a natural operation with Hash Tables.\n",
    "\n",
    "**BSTs are easy to implement** compared to hashing, we can **easily implement our own customized BST**. **To implement Hashing, we generally rely on libraries provided by programming languages**.\n",
    "\n",
    "With **Self-Balancing BSTs, all operations are guaranteed to work in O(Logn) time**. But with **Hashing, Θ(1) is average time and some particular operations may be costly, especially when table resizing happens.**"
   ]
  },
  {
   "cell_type": "markdown",
   "metadata": {},
   "source": [
    "# CONSTRUCTION AND CONVERSION"
   ]
  },
  {
   "cell_type": "markdown",
   "metadata": {},
   "source": [
    "# Construct Tree from PreOrder Traversal O(n2)"
   ]
  },
  {
   "cell_type": "code",
   "execution_count": 48,
   "metadata": {},
   "outputs": [],
   "source": [
    "def getpreIndex():\n",
    "    return constructTree.preIndex\n",
    "\n",
    "def incrementPreIndex():\n",
    "    constructTree.preIndex+=1\n",
    "\n",
    "def constructTreeUtil(preorder,low,high,size):\n",
    "    if getpreIndex()>=size or low>high:\n",
    "          return\n",
    "    \n",
    "    root=Node(preorder[getpreIndex()])\n",
    "    incrementPreIndex()\n",
    "    if low==high:\n",
    "          return root\n",
    "    \n",
    "    if getpreIndex()<size:\n",
    "        \n",
    "        for i in range(getpreIndex(),size):\n",
    "            if preorder[i]>root.data:\n",
    "                break\n",
    "        root.left=constructTreeUtil(preorder,getpreIndex(),i-1,size)\n",
    "        root.right=constructTreeUtil(preorder,i,high,size)\n",
    "    return root\n",
    "\n",
    "    \n",
    "def constructTree(preorder):\n",
    "    size=len(preorder)\n",
    "    constructTree.preIndex=0\n",
    "    root=constructTreeUtil(preorder,0,size-1,size)\n",
    "    return root\n"
   ]
  },
  {
   "cell_type": "code",
   "execution_count": 49,
   "metadata": {},
   "outputs": [],
   "source": [
    "preorder=[10, 5, 1, 7, 40, 50]"
   ]
  },
  {
   "cell_type": "code",
   "execution_count": 50,
   "metadata": {},
   "outputs": [],
   "source": [
    "root=constructTree(preorder)"
   ]
  },
  {
   "cell_type": "code",
   "execution_count": 52,
   "metadata": {},
   "outputs": [
    {
     "name": "stdout",
     "output_type": "stream",
     "text": [
      "1 5 7 10 40 50 "
     ]
    }
   ],
   "source": [
    "inorder(root)"
   ]
  },
  {
   "cell_type": "markdown",
   "metadata": {},
   "source": [
    "# Construction from preorder traversal O(n)"
   ]
  },
  {
   "cell_type": "markdown",
   "metadata": {},
   "source": [
    "Low key and High Key Approach"
   ]
  },
  {
   "cell_type": "code",
   "execution_count": 53,
   "metadata": {},
   "outputs": [],
   "source": [
    "INTMIN=float(\"-infinity\")\n",
    "INTMAX=float(\"infinity\")\n",
    "\n",
    "def getpreIndex():\n",
    "    return constructTree.preIndex\n",
    "\n",
    "def incrementPreIndex():\n",
    "    constructTree.preIndex+=1\n",
    "\n",
    "def constructTreeUtil(preorder,key,low,high,size):\n",
    "    if getpreIndex()>=size or low>high:\n",
    "        return\n",
    "\n",
    "    root=None\n",
    "    \n",
    "    if key>low and key<high:\n",
    "        \n",
    "        root=Node(key)\n",
    "        incrementPreIndex()\n",
    "\n",
    "        if low==high:\n",
    "            return root\n",
    "      \n",
    "        if getpreIndex()<size:\n",
    "            root.left=constructTreeUtil(preorder,preorder[getpreIndex()],low,key,size)\n",
    "        \n",
    "            root.right=constructTreeUtil(preorder,preorder[getpreIndex()],key,high,size)\n",
    "    \n",
    "    return root\n",
    "    \n",
    "def constructTree(preorder):\n",
    "    size=len(preorder)\n",
    "    constructTree.preIndex=0\n",
    "    root=constructTreeUtil(preorder,preorder[0],INTMIN,INTMAX,size)\n",
    "    return root"
   ]
  },
  {
   "cell_type": "code",
   "execution_count": 54,
   "metadata": {},
   "outputs": [],
   "source": [
    "root=constructTree(preorder)"
   ]
  },
  {
   "cell_type": "code",
   "execution_count": 55,
   "metadata": {},
   "outputs": [
    {
     "name": "stdout",
     "output_type": "stream",
     "text": [
      "1 5 7 10 40 50 "
     ]
    }
   ],
   "source": [
    "inorder(root)"
   ]
  },
  {
   "cell_type": "markdown",
   "metadata": {},
   "source": [
    "# # Construction from preorder traversal O(n)- Stack Approach"
   ]
  },
  {
   "cell_type": "code",
   "execution_count": 57,
   "metadata": {},
   "outputs": [],
   "source": [
    "def createTree(preorder):\n",
    "    \n",
    "    stack=[]\n",
    "    root=Node(preorder[0])\n",
    "    stack.append(root)\n",
    "    curr=root  \n",
    "    for i in range(1,len(preorder)):\n",
    "        if preorder[i]<stack[-1].data:\n",
    "            curr.left=Node(preorder[i])\n",
    "            curr=curr.left\n",
    "            stack.append(curr)\n",
    "        else:\n",
    "            while stack and preorder[i]>stack[-1].data:\n",
    "                temp=stack.pop(-1)\n",
    "            temp.right=Node(preorder[i])\n",
    "            curr=temp.right\n",
    "            stack.append(curr)\n",
    "    return root\n"
   ]
  },
  {
   "cell_type": "code",
   "execution_count": 61,
   "metadata": {},
   "outputs": [],
   "source": [
    "root=createTree(preorder)"
   ]
  },
  {
   "cell_type": "code",
   "execution_count": 62,
   "metadata": {},
   "outputs": [
    {
     "name": "stdout",
     "output_type": "stream",
     "text": [
      "1 5 7 10 40 50 "
     ]
    }
   ],
   "source": [
    "inorder(root)"
   ]
  },
  {
   "cell_type": "markdown",
   "metadata": {},
   "source": [
    "# Binary Tree to BST"
   ]
  },
  {
   "cell_type": "markdown",
   "metadata": {},
   "source": [
    "Approach -> Store the inorder in an array, sort the array and then replace the elements of the tree orderwise"
   ]
  },
  {
   "cell_type": "code",
   "execution_count": 63,
   "metadata": {},
   "outputs": [],
   "source": [
    "root=Node(10)\n",
    "root.left=Node(2)\n",
    "root.right=Node(7)\n",
    "root.left.left=Node(8)\n",
    "root.left.right=Node(4)"
   ]
  },
  {
   "cell_type": "code",
   "execution_count": 64,
   "metadata": {},
   "outputs": [
    {
     "name": "stdout",
     "output_type": "stream",
     "text": [
      "8 2 4 10 7 "
     ]
    }
   ],
   "source": [
    "inorder(root)"
   ]
  },
  {
   "cell_type": "code",
   "execution_count": 80,
   "metadata": {},
   "outputs": [],
   "source": [
    "def storeInorder(root,arr):\n",
    "    if root is None:\n",
    "        return\n",
    "    storeInorder(root.left,arr)\n",
    "    arr.append(root.data)\n",
    "    storeInorder(root.right,arr)\n",
    "\n",
    "def BTtoBSTUtil(root,arr,i):\n",
    "    if root is None:\n",
    "        return\n",
    "    BTtoBSTUtil(root.left,arr,i)\n",
    "    root.data=arr[i[0]]\n",
    "    i[0]+=1\n",
    "    BTtoBSTUtil(root.right,arr,i)\n",
    "    \n",
    "def BTtoBST(root):\n",
    "    arr=[]\n",
    "    storeInorder(root,arr)\n",
    "    arr.sort()\n",
    "    i=[0]\n",
    "    BTtoBSTUtil(root,arr,i)\n",
    "    "
   ]
  },
  {
   "cell_type": "code",
   "execution_count": 81,
   "metadata": {},
   "outputs": [
    {
     "name": "stdout",
     "output_type": "stream",
     "text": [
      "8 2 4 10 7 "
     ]
    }
   ],
   "source": [
    "inorder(root)"
   ]
  },
  {
   "cell_type": "code",
   "execution_count": 82,
   "metadata": {},
   "outputs": [],
   "source": [
    "BTtoBST(root)"
   ]
  },
  {
   "cell_type": "code",
   "execution_count": 83,
   "metadata": {},
   "outputs": [
    {
     "name": "stdout",
     "output_type": "stream",
     "text": [
      "2 4 7 8 10 "
     ]
    }
   ],
   "source": [
    "inorder(root)"
   ]
  },
  {
   "cell_type": "markdown",
   "metadata": {},
   "source": [
    "# Sorted LL to BST -O(nlogn)"
   ]
  },
  {
   "cell_type": "markdown",
   "metadata": {},
   "source": [
    "**Building from root to leaves**"
   ]
  },
  {
   "cell_type": "code",
   "execution_count": 84,
   "metadata": {},
   "outputs": [],
   "source": [
    "class Lnode:\n",
    "    def __init__(self,data):\n",
    "        self.data=data\n",
    "        self.next=None\n",
    "\n",
    "#class LinkedList:\n",
    "\n",
    "head = None\n",
    "\n",
    "def push(data):\n",
    "    global head\n",
    "    temp=Lnode(data)\n",
    "    if head is None:\n",
    "        head=temp\n",
    "        return\n",
    "    temp.next=head\n",
    "    head=temp\n",
    "\n",
    "def traverseLL():\n",
    "    global head\n",
    "    if head is None:\n",
    "        return\n",
    "    temp=head\n",
    "    while temp:\n",
    "        print(temp.data,end=\" \")\n",
    "        temp=temp.next\n",
    "    print()\n",
    "\n",
    "\n",
    "def SLLToBST(head,tail):\n",
    "    if head is tail:\n",
    "        return None\n",
    "    slow=head\n",
    "    fast=head\n",
    "    while fast!=tail and fast.next!=tail:\n",
    "        slow=slow.next\n",
    "        fast=fast.next.next\n",
    "    root=Node(slow.data)\n",
    "    root.left=SLLToBST(head,slow)\n",
    "    root.right=SLLToBST(slow.next,tail)\n",
    "    return root\n"
   ]
  },
  {
   "cell_type": "code",
   "execution_count": 85,
   "metadata": {},
   "outputs": [],
   "source": [
    "\n",
    "push(7)\n",
    "push(6)\n",
    "push(5)\n",
    "push(4)\n",
    "push(3)\n",
    "push(2)\n",
    "push(1)\n",
    "#traverseLL()\n",
    "#print(head.data)\n",
    "\n",
    "root=SLLToBST(head,None)\n",
    "\n"
   ]
  },
  {
   "cell_type": "code",
   "execution_count": 86,
   "metadata": {},
   "outputs": [
    {
     "name": "stdout",
     "output_type": "stream",
     "text": [
      "1 2 3 4 5 6 7 "
     ]
    }
   ],
   "source": [
    "inorder(root)"
   ]
  },
  {
   "cell_type": "markdown",
   "metadata": {},
   "source": [
    "# Sorted LL to BST - O(n) "
   ]
  },
  {
   "cell_type": "markdown",
   "metadata": {},
   "source": [
    "**Building from leaves to root**"
   ]
  },
  {
   "cell_type": "code",
   "execution_count": 95,
   "metadata": {},
   "outputs": [],
   "source": [
    "def countNodes():\n",
    "    n=0\n",
    "    if head is None:\n",
    "        return 0\n",
    "    temp=head\n",
    "    while temp:\n",
    "        n+=1\n",
    "        temp=temp.next\n",
    "    return n\n",
    "\n",
    "def SLLToBSTRecur(n):\n",
    "    global head\n",
    "    if n<=0:\n",
    "        return None\n",
    "    left=SLLToBSTRecur(n//2)\n",
    "    root=Node(head.data)\n",
    "    root.left=left\n",
    "\n",
    "    head=head.next\n",
    "\n",
    "    root.right=SLLToBSTRecur(n-n//2-1)\n",
    "    return root\n",
    "\n",
    "def SLLToBST():\n",
    "    n=countNodes()\n",
    "    #print(n)\n",
    "    root=SLLToBSTRecur(n)\n",
    "    return root\n"
   ]
  },
  {
   "cell_type": "code",
   "execution_count": 96,
   "metadata": {},
   "outputs": [],
   "source": [
    "root=SLLToBST()"
   ]
  },
  {
   "cell_type": "code",
   "execution_count": 97,
   "metadata": {},
   "outputs": [
    {
     "name": "stdout",
     "output_type": "stream",
     "text": [
      "1 2 3 4 5 6 7 "
     ]
    }
   ],
   "source": [
    "inorder(root)"
   ]
  },
  {
   "cell_type": "markdown",
   "metadata": {},
   "source": [
    "# Sorted Array To BST - O(n)"
   ]
  },
  {
   "cell_type": "markdown",
   "metadata": {},
   "source": [
    "Find the middle of the array, create this middle as root and thenrecur for left and right subtrees"
   ]
  },
  {
   "cell_type": "code",
   "execution_count": 15,
   "metadata": {},
   "outputs": [],
   "source": [
    "def createBSTfromArr(arr):\n",
    "    if len(arr)<=0:\n",
    "        return None\n",
    "    n=len(arr)\n",
    "    mid=n//2\n",
    "    root=Node(arr[mid])\n",
    "    root.left=createBSTfromArr(arr[:mid])\n",
    "    root.right=createBSTfromArr(arr[mid+1:])\n",
    "    return root"
   ]
  },
  {
   "cell_type": "code",
   "execution_count": 16,
   "metadata": {},
   "outputs": [],
   "source": [
    "arr=[1,2,3,4,5,6,7]"
   ]
  },
  {
   "cell_type": "code",
   "execution_count": 17,
   "metadata": {},
   "outputs": [],
   "source": [
    "root=createBSTfromArr(arr)"
   ]
  },
  {
   "cell_type": "code",
   "execution_count": 18,
   "metadata": {},
   "outputs": [
    {
     "name": "stdout",
     "output_type": "stream",
     "text": [
      "1 2 3 4 5 6 7 "
     ]
    }
   ],
   "source": [
    "inorder(root)"
   ]
  },
  {
   "cell_type": "markdown",
   "metadata": {},
   "source": [
    "# Transform BST to Greater Sum Tree\n",
    "\n",
    "Given a BST, transform it into greater sum tree where each node contains sum of all nodes greater than that node."
   ]
  },
  {
   "cell_type": "code",
   "execution_count": 25,
   "metadata": {},
   "outputs": [],
   "source": [
    "def storeInorder(root,arr):\n",
    "    if root is None:\n",
    "        return\n",
    "    storeInorder(root.left,arr)\n",
    "    arr.append(root.data)\n",
    "    storeInorder(root.right,arr)\n",
    "\n",
    "def BSTtoGST(root):\n",
    "    arr=[]\n",
    "    storeInorder(root,arr)\n",
    "    total=[sum(arr)]\n",
    "    BSTtoGSTRecur(root,total)\n",
    "    \n",
    "def BSTtoGSTRecur(root,total):\n",
    "    if root is None:\n",
    "        return\n",
    "    BSTtoGSTRecur(root.left,total)\n",
    "    root.data=total[0]-root.data\n",
    "    total[0]=root.data\n",
    "    BSTtoGSTRecur(root.right,total)"
   ]
  },
  {
   "cell_type": "code",
   "execution_count": 26,
   "metadata": {},
   "outputs": [],
   "source": [
    "root=Node(11)\n",
    "root.left=Node(2)\n",
    "root.right=Node(29)\n",
    "root.left.left=Node(1)\n",
    "root.left.right=Node(7)\n",
    "root.right.left=Node(15)\n",
    "root.right.right=Node(40)\n",
    "root.right.right.left=Node(35)"
   ]
  },
  {
   "cell_type": "code",
   "execution_count": 27,
   "metadata": {},
   "outputs": [
    {
     "name": "stdout",
     "output_type": "stream",
     "text": [
      "1 2 7 11 15 29 35 40 "
     ]
    }
   ],
   "source": [
    "inorder(root)"
   ]
  },
  {
   "cell_type": "code",
   "execution_count": 28,
   "metadata": {},
   "outputs": [],
   "source": [
    "BSTtoGST(root)"
   ]
  },
  {
   "cell_type": "code",
   "execution_count": 29,
   "metadata": {},
   "outputs": [
    {
     "name": "stdout",
     "output_type": "stream",
     "text": [
      "139 137 130 119 104 75 40 0 "
     ]
    }
   ],
   "source": [
    "inorder(root)"
   ]
  },
  {
   "cell_type": "markdown",
   "metadata": {},
   "source": [
    "# Transform BST to Greater Sum Tree Approach(2)-Removing Unnecessary Traversal\n",
    "\n",
    "Given a BST, transform it into greater sum tree where each node contains sum of all nodes greater than that node."
   ]
  },
  {
   "cell_type": "code",
   "execution_count": 30,
   "metadata": {},
   "outputs": [],
   "source": [
    "def BSTtoGST2(root):\n",
    "    #arr=[]\n",
    "    #storeInorder(root,arr)\n",
    "    total=[0]\n",
    "    BSTtoGSTRecur2(root,total)\n",
    "    \n",
    "def BSTtoGSTRecur2(root,total):\n",
    "    if root is None:\n",
    "        return\n",
    "    BSTtoGSTRecur2(root.right,total)\n",
    "    temp=root.data\n",
    "    root.data=total[0]\n",
    "    total[0]+=temp\n",
    "    BSTtoGSTRecur2(root.left,total)"
   ]
  },
  {
   "cell_type": "code",
   "execution_count": 31,
   "metadata": {},
   "outputs": [],
   "source": [
    "root=Node(11)\n",
    "root.left=Node(2)\n",
    "root.right=Node(29)\n",
    "root.left.left=Node(1)\n",
    "root.left.right=Node(7)\n",
    "root.right.left=Node(15)\n",
    "root.right.right=Node(40)\n",
    "root.right.right.left=Node(35)"
   ]
  },
  {
   "cell_type": "code",
   "execution_count": 32,
   "metadata": {},
   "outputs": [
    {
     "name": "stdout",
     "output_type": "stream",
     "text": [
      "1 2 7 11 15 29 35 40 "
     ]
    }
   ],
   "source": [
    "inorder(root)"
   ]
  },
  {
   "cell_type": "code",
   "execution_count": 33,
   "metadata": {},
   "outputs": [],
   "source": [
    "BSTtoGST2(root)"
   ]
  },
  {
   "cell_type": "code",
   "execution_count": 34,
   "metadata": {},
   "outputs": [
    {
     "name": "stdout",
     "output_type": "stream",
     "text": [
      "139 137 130 119 104 75 40 0 "
     ]
    }
   ],
   "source": [
    "inorder(root)"
   ]
  },
  {
   "cell_type": "markdown",
   "metadata": {},
   "source": [
    "## Possible BST from keys  1 to n"
   ]
  },
  {
   "cell_type": "code",
   "execution_count": 1,
   "metadata": {},
   "outputs": [],
   "source": [
    "def preorder(root):\n",
    "    if root is None:\n",
    "        return\n",
    "    print(root.data,end=\" \")\n",
    "    preorder(root.left)\n",
    "    preorder(root.right)"
   ]
  },
  {
   "cell_type": "code",
   "execution_count": 3,
   "metadata": {},
   "outputs": [],
   "source": [
    "def createBST(start,end):\n",
    "    list=[]\n",
    "    if start>end:\n",
    "        list.append(None)\n",
    "        return list\n",
    "    for i in range(start,end+1):\n",
    "        leftSubTree=createBST(start,i-1)\n",
    "        rightSubTree=createBST(i+1,end)\n",
    "\n",
    "        for j in range(len(leftSubTree)):\n",
    "            left=leftSubTree[j]\n",
    "            for k in range(len(rightSubTree)):\n",
    "                right=rightSubTree[k]\n",
    "                node=Node(i)\n",
    "                node.left=left\n",
    "                node.right=right\n",
    "                list.append(node)\n",
    "    return list"
   ]
  },
  {
   "cell_type": "code",
   "execution_count": 7,
   "metadata": {},
   "outputs": [
    {
     "name": "stdout",
     "output_type": "stream",
     "text": [
      "1 2 3 \n",
      "1 3 2 \n",
      "2 1 3 \n",
      "3 1 2 \n",
      "3 2 1 \n"
     ]
    }
   ],
   "source": [
    "totalTrees=createBST(1,3)\n",
    "for i in totalTrees:\n",
    "    preorder(i)\n",
    "    print()"
   ]
  },
  {
   "cell_type": "markdown",
   "metadata": {},
   "source": [
    "## Convert a BST to a Binary Tree such that sum of all greater keys is added to every key\n",
    "\n",
    "Given a Binary Search Tree (BST), convert it to a Binary Tree such that every key of the original BST is changed to key plus sum of all greater keys in BST."
   ]
  },
  {
   "cell_type": "code",
   "execution_count": 25,
   "metadata": {},
   "outputs": [],
   "source": [
    "def BSTtoSGSTRecur(root,total):\n",
    "    if root is None:\n",
    "        return None\n",
    "    BSTtoSGSTRecur(root.right,total)\n",
    "    root.data+=total[0]\n",
    "    total[0]=root.data\n",
    "    BSTtoSGSTRecur(root.left,total)\n",
    "\n",
    "def BSTtoSGST(root):\n",
    "    total=[0]\n",
    "    BSTtoSGSTRecur(root,total)\n",
    "    "
   ]
  },
  {
   "cell_type": "code",
   "execution_count": 26,
   "metadata": {},
   "outputs": [],
   "source": [
    "root=Node(5)\n",
    "root.left=Node(2)\n",
    "root.right=Node(13)"
   ]
  },
  {
   "cell_type": "code",
   "execution_count": 27,
   "metadata": {},
   "outputs": [],
   "source": [
    "BSTtoSGST(root)"
   ]
  },
  {
   "cell_type": "code",
   "execution_count": 28,
   "metadata": {},
   "outputs": [
    {
     "name": "stdout",
     "output_type": "stream",
     "text": [
      "20 18 13 "
     ]
    }
   ],
   "source": [
    "inorder(root)"
   ]
  },
  {
   "cell_type": "markdown",
   "metadata": {},
   "source": [
    "## BST to a Tree with sum of all smaller keys\n",
    "\n",
    "Given a Binary Search Tree(BST), convert it to a Binary Tree such that every key of the original BST is changed to key plus sum of all smaller keys in BST."
   ]
  },
  {
   "cell_type": "code",
   "execution_count": 35,
   "metadata": {},
   "outputs": [],
   "source": [
    "def BSTtoSSTRecur(root,total):\n",
    "    if root is None:\n",
    "        return None\n",
    "    BSTtoSSTRecur(root.left,total)\n",
    "    root.data+=total[0]\n",
    "    total[0]=root.data\n",
    "    BSTtoSSTRecur(root.right,total)\n",
    "\n",
    "def BSTtoSST(root):\n",
    "    total=[0]\n",
    "    BSTtoSSTRecur(root,total)\n",
    "    "
   ]
  },
  {
   "cell_type": "code",
   "execution_count": 36,
   "metadata": {},
   "outputs": [],
   "source": [
    "root=Node(9)\n",
    "root.left=Node(6)\n",
    "root.right=Node(15)\n",
    "root.left.left=Node(3)\n",
    "root.right.right=Node(21)"
   ]
  },
  {
   "cell_type": "code",
   "execution_count": 37,
   "metadata": {},
   "outputs": [],
   "source": [
    "BSTtoSST(root)"
   ]
  },
  {
   "cell_type": "code",
   "execution_count": 38,
   "metadata": {},
   "outputs": [
    {
     "name": "stdout",
     "output_type": "stream",
     "text": [
      "3 9 18 33 54 "
     ]
    }
   ],
   "source": [
    "inorder(root)"
   ]
  },
  {
   "cell_type": "markdown",
   "metadata": {},
   "source": [
    "## BST to MinHeap (In-Place)"
   ]
  },
  {
   "cell_type": "code",
   "execution_count": 39,
   "metadata": {},
   "outputs": [
    {
     "name": "stdout",
     "output_type": "stream",
     "text": [
      "2 4 6 8 10 12 14 \n",
      "8 4 10 2 12 6 14 "
     ]
    }
   ],
   "source": [
    "class Node:\n",
    "    def __init__(self,data):\n",
    "        self.data=data\n",
    "        self.left=None\n",
    "        self.right=None\n",
    "\n",
    "def BSTToSLL(root,head):\n",
    "    if root is None:\n",
    "        return\n",
    "    BSTToSLL(root.right,head)\n",
    "    root.right=head[0]#temp.next=head\n",
    "    if head[0]!=None:\n",
    "        head[0].left=None\n",
    "    head[0]=root#head=temp\n",
    "    BSTToSLL(root.left,head)\n",
    "\n",
    "def traverseLL(head):\n",
    "    while head[0]:\n",
    "        print(head[0].data,end=\" \")\n",
    "        head[0]=head[0].right\n",
    "\n",
    "def SLLtoMheap(root,head):\n",
    "    if head[0] is None:\n",
    "        return None\n",
    "    root[0]=head[0]\n",
    "    head[0]=head[0].right\n",
    "    root[0].right=None\n",
    "\n",
    "    queue=[]\n",
    "    queue.append(root[0])\n",
    "\n",
    "    while head[0]:\n",
    "        parent=queue.pop(0)\n",
    "\n",
    "        leftChild=head[0]\n",
    "        head[0]=head[0].right\n",
    "        leftChild.right=None\n",
    "        parent.left=leftChild\n",
    "\n",
    "        queue.append(leftChild)\n",
    "\n",
    "        if head[0]:\n",
    "\n",
    "            rightChild=head[0]\n",
    "            head[0]=head[0].right\n",
    "            rightChild.right=None\n",
    "            parent.right=rightChild\n",
    "\n",
    "            queue.append(rightChild)\n",
    "\n",
    "\n",
    "def BSTtoMinHeap(root):\n",
    "    head=[None]\n",
    "    BSTToSLL(root,head)\n",
    "    #traverseLL(head)\n",
    "    root=[None]\n",
    "    SLLtoMheap(root,head)\n",
    "    return root[0]\n",
    "\n",
    "def inorder(root):\n",
    "    if root is None:\n",
    "        return\n",
    "    inorder(root.left)\n",
    "    print(root.data,end=\" \")\n",
    "    inorder(root.right)\n",
    "\n",
    "if __name__ == '__main__':\n",
    "    root = Node(8)\n",
    "    root.left = Node(4)\n",
    "    root.right = Node(12)\n",
    "    root.right.left = Node(10)\n",
    "    root.right.right = Node(14)\n",
    "    root.left.left = Node(2)\n",
    "    root.left.right = Node(6)\n",
    "    inorder(root)\n",
    "    print()\n",
    "    root=BSTtoMinHeap(root)\n",
    "    inorder(root)\n"
   ]
  },
  {
   "cell_type": "markdown",
   "metadata": {},
   "source": [
    "## BST to MinHeap-O(n) space\n",
    "Given a binary search tree which is also a complete binary tree. The problem is to convert the given BST into a Min Heap with the condition that all the values in the left subtree of a node should be less than all the values in the right subtree of the node. This condition is applied on all the nodes in the so converted Min Heap."
   ]
  },
  {
   "cell_type": "markdown",
   "metadata": {},
   "source": [
    "Approach-> Store the inorder and then replace the values in preorder fashion"
   ]
  },
  {
   "cell_type": "code",
   "execution_count": 41,
   "metadata": {},
   "outputs": [
    {
     "name": "stdout",
     "output_type": "stream",
     "text": [
      "1 2 3 4 5 6 7 \n",
      "3 2 4 1 6 5 7 "
     ]
    }
   ],
   "source": [
    "class Node:\n",
    "    def __init__(self,data):\n",
    "        self.data=data\n",
    "        self.left=None\n",
    "        self.right=None\n",
    "\n",
    "def inorderStore(root,arr):\n",
    "    if root is None:\n",
    "        return\n",
    "    inorderStore(root.left,arr)\n",
    "    arr.append(root.data)\n",
    "    inorderStore(root.right,arr)\n",
    "\n",
    "def BSTtoMheapRecur(root,arr,i):\n",
    "    if root is None:\n",
    "        return\n",
    "    root.data=arr[i[0]]\n",
    "    i[0]+=1\n",
    "    BSTtoMheapRecur(root.left,arr,i)\n",
    "    BSTtoMheapRecur(root.right,arr,i)\n",
    "\n",
    "def BSTtoMheap(root):\n",
    "    if root is None:\n",
    "        return None\n",
    "    arr=[]\n",
    "    inorderStore(root,arr)\n",
    "    i=[0]\n",
    "    BSTtoMheapRecur(root,arr,i)\n",
    "\n",
    "def inorder(root):\n",
    "    if root is None:\n",
    "        return\n",
    "    inorder(root.left)\n",
    "    print(root.data,end=\" \")\n",
    "    inorder(root.right)\n",
    "\n",
    "if __name__ == '__main__':\n",
    "    root=Node(4)\n",
    "    root.left=Node(2)\n",
    "    root.right=Node(6)\n",
    "    root.left.left=Node(1)\n",
    "    root.left.right=Node(3)\n",
    "    root.right.left=Node(5)\n",
    "    root.right.right=Node(7)\n",
    "    inorder(root)\n",
    "    print()\n",
    "    BSTtoMheap(root)\n",
    "    inorder(root)\n"
   ]
  },
  {
   "cell_type": "markdown",
   "metadata": {},
   "source": [
    "## Construct BST from its given level order traversal"
   ]
  },
  {
   "cell_type": "markdown",
   "metadata": {},
   "source": [
    "Approach-> One by One from the array take the elements and insert it into the BST "
   ]
  },
  {
   "cell_type": "code",
   "execution_count": 43,
   "metadata": {},
   "outputs": [
    {
     "name": "stdout",
     "output_type": "stream",
     "text": [
      "1 3 4 5 6 7 8 10 12 "
     ]
    }
   ],
   "source": [
    "class Node:\n",
    "    def __init__(self,data):\n",
    "        self.data=data\n",
    "        self.left=None\n",
    "        self.right=None\n",
    "\n",
    "def LevelOrder(root,data):\n",
    "    if root is None:\n",
    "        root=Node(data)\n",
    "        return root\n",
    "    if data<root.data:\n",
    "        root.left=LevelOrder(root.left,data)\n",
    "    else:\n",
    "        root.right=LevelOrder(root.right,data)\n",
    "    return root\n",
    "\n",
    "def constructBST(LOT):\n",
    "    root=None\n",
    "    for i in range(len(LOT)):\n",
    "        root=LevelOrder(root,LOT[i])\n",
    "    return root\n",
    "\n",
    "def inorder(root):\n",
    "    if root is None:\n",
    "        return\n",
    "    inorder(root.left)\n",
    "    print(root.data,end=\" \")\n",
    "    inorder(root.right)\n",
    "\n",
    "if __name__ == '__main__':\n",
    "    LOT=[7,4,12,3,6,8,1,5,10]\n",
    "    root=constructBST(LOT)\n",
    "    inorder(root)\n"
   ]
  },
  {
   "cell_type": "markdown",
   "metadata": {},
   "source": [
    "Time Complexity O(n^2)"
   ]
  },
  {
   "cell_type": "markdown",
   "metadata": {},
   "source": [
    "## Reverse a path in BST using queue"
   ]
  },
  {
   "cell_type": "code",
   "execution_count": 3,
   "metadata": {},
   "outputs": [
    {
     "name": "stdout",
     "output_type": "stream",
     "text": [
      "20 30 40 50 60 70 80 \n",
      "20 30 40 80 60 70 50 "
     ]
    }
   ],
   "source": [
    "class Node:\n",
    "    def __init__(self,data):\n",
    "        self.data=data\n",
    "        self.left=None\n",
    "        self.right=None\n",
    "\n",
    "def insert(root,data):\n",
    "    if root is None:\n",
    "        root=Node(data)\n",
    "        return root\n",
    "    if data<root.data:\n",
    "        root.left=insert(root.left,data)\n",
    "    else:\n",
    "        root.right=insert(root.right,data)\n",
    "    return root\n",
    "\n",
    "def reversePathUtil(root,key,queue):\n",
    "    if root is None:\n",
    "        return\n",
    "    if root.data==key:\n",
    "        queue.insert(0,root.data)\n",
    "        #reversePathUtil(root.left,key,queue)\n",
    "        root.data=queue[-1]\n",
    "        queue.pop()\n",
    "        return\n",
    "    elif key<root.data:\n",
    "        queue.insert(0,root.data)\n",
    "        reversePathUtil(root.left,key,queue)\n",
    "        root.data=queue[-1]\n",
    "        queue.pop()\n",
    "    else:\n",
    "        queue.insert(0,root.data)\n",
    "        reversePathUtil(root.right,key,queue)\n",
    "        root.data=queue[-1]\n",
    "        queue.pop()\n",
    "    return\n",
    "\n",
    "def reversePath(root,key):\n",
    "    queue=[]\n",
    "    reversePathUtil(root,key,queue)\n",
    "\n",
    "def inorder(root):\n",
    "    if root is None:\n",
    "        return\n",
    "    inorder(root.left)\n",
    "    print(root.data,end=\" \")\n",
    "    inorder(root.right)\n",
    "\n",
    "if __name__ == '__main__':\n",
    "    root=None\n",
    "    root=insert(root,50)\n",
    "    root=insert(root,30)\n",
    "    root=insert(root,20)\n",
    "    root=insert(root,40)\n",
    "    root=insert(root,70)\n",
    "    root=insert(root,60)\n",
    "    root=insert(root,80)\n",
    "    #root=insert(root,40)\n",
    "    inorder(root)\n",
    "    key=80\n",
    "    reversePath(root,key)\n",
    "    print()\n",
    "    inorder(root)\n"
   ]
  },
  {
   "cell_type": "markdown",
   "metadata": {},
   "source": [
    "Time Complexity O(n)"
   ]
  },
  {
   "cell_type": "markdown",
   "metadata": {},
   "source": [
    "## Check given array of size n can represent BST of n levels or not"
   ]
  },
  {
   "cell_type": "markdown",
   "metadata": {},
   "source": [
    "For a BST to be of level n the tree has to be skewed, so either all go in the left or all go in the right"
   ]
  },
  {
   "cell_type": "code",
   "execution_count": 5,
   "metadata": {},
   "outputs": [
    {
     "name": "stdout",
     "output_type": "stream",
     "text": [
      "BST can be formed\n"
     ]
    }
   ],
   "source": [
    "\n",
    "def checkNLevelBinaryTree(arr):\n",
    "    maximum=float('infinity')\n",
    "    minimum=float('-infinity')\n",
    "    flag=True\n",
    "    for i in range(1,len(arr)):\n",
    "#         if element is greated all the element should go in the right subtree and the minimum next element should be the current element\n",
    "        if arr[i]>arr[i-1] and arr[i]>minimum and arr[i]<maximum:\n",
    "            minimum=arr[i-1]\n",
    "        elif arr[i]>minimum and arr[i]<maximum:\n",
    "            maximum=arr[i-1]\n",
    "        else:\n",
    "            flag=False\n",
    "            break\n",
    "    if flag==False:\n",
    "        print(\"BST cannot be formed\")\n",
    "    else:\n",
    "        print(\"BST can be formed\")\n",
    "\n",
    "if __name__ == '__main__':\n",
    "    arr=[5123, 3300, 783, 1111, 890]\n",
    "    #arr=[500,200,90,250,100]\n",
    "    checkNLevelBinaryTree(arr)\n"
   ]
  },
  {
   "cell_type": "markdown",
   "metadata": {},
   "source": [
    "Time Complexity O(n)"
   ]
  },
  {
   "cell_type": "markdown",
   "metadata": {},
   "source": [
    "## Convert a normal BST to Balanced BST"
   ]
  },
  {
   "cell_type": "code",
   "execution_count": 6,
   "metadata": {},
   "outputs": [
    {
     "name": "stdout",
     "output_type": "stream",
     "text": [
      "30 20 10 \n",
      "20 10 30 "
     ]
    }
   ],
   "source": [
    "class Node:\n",
    "    def __init__(self,data):\n",
    "        self.data=data\n",
    "        self.left=None\n",
    "        self.right=None\n",
    "\n",
    "def ArrtoBST(arr):\n",
    "    if len(arr)==0:\n",
    "        return None\n",
    "    n=len(arr)\n",
    "    mid=n//2\n",
    "    root=Node(arr[mid])\n",
    "    root.left=ArrtoBST(arr[:mid])\n",
    "    root.right=ArrtoBST(arr[mid+1:])\n",
    "    return root\n",
    "\n",
    "def BSTtoArr(root,arr):\n",
    "    if root is None:\n",
    "        return\n",
    "    BSTtoArr(root.left,arr)\n",
    "    arr.append(root.data)\n",
    "    BSTtoArr(root.right,arr)\n",
    "\n",
    "def BSTtoBalancedBST(root):\n",
    "    arr=[]\n",
    "    BSTtoArr(root,arr)\n",
    "    root=ArrtoBST(arr)\n",
    "    return root\n",
    "\n",
    "def inorder(root):\n",
    "    if root is None:\n",
    "        return\n",
    "    inorder(root.left)\n",
    "    print(root.data,end=\" \")\n",
    "    inorder(root.right)\n",
    "\n",
    "def preorder(root):\n",
    "    if root is None:\n",
    "        return\n",
    "    print(root.data,end=\" \")\n",
    "    preorder(root.left)\n",
    "    preorder(root.right)\n",
    "\n",
    "if __name__ == '__main__':\n",
    "    root=Node(30)\n",
    "    root.left=Node(20)\n",
    "    root.left.left=Node(10)\n",
    "    preorder(root)\n",
    "    print()\n",
    "    root=BSTtoBalancedBST(root)\n",
    "    preorder(root)\n"
   ]
  },
  {
   "cell_type": "markdown",
   "metadata": {},
   "source": [
    "**In Place**"
   ]
  },
  {
   "cell_type": "markdown",
   "metadata": {},
   "source": [
    "Approach-> Convert the BST To SLL and then SLL to Balanced BST"
   ]
  },
  {
   "cell_type": "code",
   "execution_count": 2,
   "metadata": {},
   "outputs": [
    {
     "name": "stdout",
     "output_type": "stream",
     "text": [
      "4 3 2 1 \n",
      "\n",
      "3 2 1 4 "
     ]
    }
   ],
   "source": [
    "class Node:\n",
    "    def __init__(self,data):\n",
    "        self.data=data\n",
    "        self.left=None\n",
    "        self.right=None\n",
    "\n",
    "def convertBSTToSLL(root,head):\n",
    "    if root is None:\n",
    "        return\n",
    "    convertBSTToSLL(root.right,head)\n",
    "    root.right=head[0]\n",
    "    if head[0] is not None:\n",
    "        head[0].left=None\n",
    "    head[0]=root\n",
    "    convertBSTToSLL(root.left,head)\n",
    "\n",
    "def traverseLinkedList(head):\n",
    "    if head is None:\n",
    "        return\n",
    "    temp=head\n",
    "    while temp:\n",
    "        print(temp.data,end=\" \")\n",
    "        temp=temp.right\n",
    "    print('\\n')\n",
    "\n",
    "def convertSLLToBalancedBST(head,tail):\n",
    "    if head is tail:\n",
    "        return\n",
    "    slow=head\n",
    "    fast=head\n",
    "    while fast!=tail and fast.right!=tail:\n",
    "        fast=fast.right.right\n",
    "        slow=slow.right\n",
    "    root=Node(slow.data)\n",
    "    root.left=convertSLLToBalancedBST(head,slow)\n",
    "    root.right=convertSLLToBalancedBST(slow.right, tail)\n",
    "    return root\n",
    "\n",
    "\n",
    "def convertToBalancedBST(root):\n",
    "    head=[None]\n",
    "    convertBSTToSLL(root,head)\n",
    "    # traverseLinkedList(head[0])\n",
    "\n",
    "    root=convertSLLToBalancedBST(head[0],None)\n",
    "    return root\n",
    "\n",
    "def preorder(root):\n",
    "    if root is None:\n",
    "        return\n",
    "    print(root.data,end=\" \")\n",
    "    preorder(root.left)\n",
    "    preorder(root.right)\n",
    "\n",
    "if __name__ == '__main__':\n",
    "    root=Node(4)\n",
    "    root.left=Node(3)\n",
    "    root.left.left=Node(2)\n",
    "    root.left.left.left=Node(1)\n",
    "    preorder(root)\n",
    "    print('\\n')\n",
    "    root=convertToBalancedBST(root)\n",
    "    preorder(root)\n"
   ]
  },
  {
   "cell_type": "markdown",
   "metadata": {},
   "source": [
    "# Merge Two Balanced Binary Search Trees"
   ]
  },
  {
   "cell_type": "markdown",
   "metadata": {},
   "source": [
    "Approach-> Get the inorder of both the trees, merge them and then convert it in balanced BST"
   ]
  },
  {
   "cell_type": "code",
   "execution_count": 3,
   "metadata": {},
   "outputs": [
    {
     "name": "stdout",
     "output_type": "stream",
     "text": [
      "20 40 50 70 80 100 120 300 \n",
      "\n",
      "80 50 40 20 70 120 100 300 "
     ]
    }
   ],
   "source": [
    "class Node:\n",
    "    def __init__(self,data):\n",
    "        self.data=data\n",
    "        self.left=None\n",
    "        self.right=None\n",
    "\n",
    "def insert(root,key):\n",
    "    if root is None:\n",
    "        root=Node(key)\n",
    "        return root\n",
    "    if key<root.data:\n",
    "        root.left=insert(root.left,key)\n",
    "    else:\n",
    "        root.right=insert(root.right,key)\n",
    "    return root\n",
    "\n",
    "def inorder(root):\n",
    "    if root is None:\n",
    "        return\n",
    "    inorder(root.left)\n",
    "    print(root.data,end=\" \")\n",
    "    inorder(root.right)\n",
    "\n",
    "def storeInorder(root,arr):\n",
    "    if root is None:\n",
    "        return\n",
    "    storeInorder(root.left,arr)\n",
    "    arr.append(root.data)\n",
    "    storeInorder(root.right,arr)\n",
    "\n",
    "def mergeArrays(a,b):\n",
    "    n=len(a)\n",
    "    m=len(b)\n",
    "    i=0;j=0\n",
    "    arr=[]\n",
    "    while i<n and j<m:\n",
    "        if a[i]<b[j]:\n",
    "            arr.append(a[i])\n",
    "            i+=1\n",
    "        else:\n",
    "            arr.append(b[j])\n",
    "            j+=1\n",
    "    if i<n:\n",
    "        while i<n:\n",
    "            arr.append(a[i])\n",
    "            i+=1\n",
    "    if j<m:\n",
    "        while j<m:\n",
    "            arr.append(b[j])\n",
    "            j+=1\n",
    "    return arr\n",
    "\n",
    "def mergeBSTUtil(arr):\n",
    "    if len(arr)<=0:\n",
    "        return None\n",
    "    mid=len(arr)//2\n",
    "    root=Node(arr[mid])\n",
    "    root.left=mergeBSTUtil(arr[:mid])\n",
    "    root.right=mergeBSTUtil(arr[mid+1:])\n",
    "    return root\n",
    "\n",
    "def mergeBST(root1,root2):\n",
    "    arr1=[]\n",
    "    arr2=[]\n",
    "    storeInorder(root1,arr1)\n",
    "    storeInorder(root2,arr2)\n",
    "    arr=mergeArrays(arr1,arr2)\n",
    "    # print(arr)\n",
    "    root=mergeBSTUtil(arr)\n",
    "    return root\n",
    "\n",
    "def preorder(root):\n",
    "    if root is None:\n",
    "        return\n",
    "    print(root.data,end=\" \")\n",
    "    preorder(root.left)\n",
    "    preorder(root.right)\n",
    "\n",
    "if __name__ == '__main__':\n",
    "    root1=None\n",
    "    root2=None\n",
    "    root1=insert(root1,100)\n",
    "    root1=insert(root1,50)\n",
    "    root1=insert(root1,300)\n",
    "    root1=insert(root1,20)\n",
    "    root1=insert(root1,70)\n",
    "    # inorder(root1)\n",
    "    # print(\"\\n\")\n",
    "    root2=insert(root2,80)\n",
    "    root2=insert(root2,40)\n",
    "    root2=insert(root2,120)\n",
    "    # inorder(root2)\n",
    "    # print(\"\\n\")\n",
    "    root=mergeBST(root1,root2)\n",
    "    inorder(root)\n",
    "    print(\"\\n\")\n",
    "    preorder(root)\n"
   ]
  },
  {
   "cell_type": "markdown",
   "metadata": {},
   "source": [
    "**Another Approach -> To do in O(n) aux space**"
   ]
  },
  {
   "cell_type": "code",
   "execution_count": null,
   "metadata": {},
   "outputs": [],
   "source": []
  },
  {
   "cell_type": "code",
   "execution_count": 9,
   "metadata": {},
   "outputs": [],
   "source": [
    "#----------------------------------------------------------------------------------------------------#\n",
    "#----------------------------------------------------------------------------------------------------#"
   ]
  },
  {
   "cell_type": "markdown",
   "metadata": {},
   "source": [
    "# Node with minimum value in BST"
   ]
  },
  {
   "cell_type": "markdown",
   "metadata": {},
   "source": [
    "Approach -> Find the leftmost element"
   ]
  },
  {
   "cell_type": "code",
   "execution_count": 10,
   "metadata": {},
   "outputs": [
    {
     "name": "stdout",
     "output_type": "stream",
     "text": [
      "4 8 10 12 14 20 22 \n",
      "4\n"
     ]
    }
   ],
   "source": [
    "class Node:\n",
    "    def __init__(self,data):\n",
    "        self.data=data\n",
    "        self.left=None\n",
    "        self.right=None\n",
    "\n",
    "def minNode(root):\n",
    "    if root is None:\n",
    "        return\n",
    "    curr=root\n",
    "    while curr.left is not None:\n",
    "        curr=curr.left\n",
    "    return curr\n",
    "\n",
    "def inorder(root):\n",
    "    if root is None:\n",
    "        return\n",
    "    inorder(root.left)\n",
    "    print(root.data,end=\" \")\n",
    "    inorder(root.right)\n",
    "\n",
    "if __name__ == '__main__':\n",
    "    root=Node(20)\n",
    "    root.left=Node(8)\n",
    "    root.right=Node(22)\n",
    "    root.left.left=Node(4)\n",
    "    root.left.right=Node(12)\n",
    "    root.left.right.left=Node(10)\n",
    "    root.left.right.right=Node(14)\n",
    "    inorder(root)\n",
    "    print()\n",
    "    result=minNode(root)\n",
    "    print(result.data)\n"
   ]
  },
  {
   "cell_type": "markdown",
   "metadata": {},
   "source": [
    "## Check if the given array can represent Level Order Traversal of Binary Search Tree"
   ]
  },
  {
   "cell_type": "markdown",
   "metadata": {},
   "source": [
    "Approach 1-> Create a BST, then find the LOT in an array and then check for equality"
   ]
  },
  {
   "cell_type": "code",
   "execution_count": 3,
   "metadata": {},
   "outputs": [
    {
     "name": "stdout",
     "output_type": "stream",
     "text": [
      "No array does not represent LOT of BST\n",
      "Yes array represents LOT of BST\n"
     ]
    }
   ],
   "source": [
    "class Node:\n",
    "    def __init__(self,data,minimum,maximum):\n",
    "        self.data=data\n",
    "        self.min=minimum\n",
    "        self.max=maximum\n",
    "\n",
    "def isBST(arr):\n",
    "    if len(arr)==0:\n",
    "        return True\n",
    "    n=len(arr)\n",
    "    queue=[]\n",
    "    root=Node(arr[0],float(\"-infinity\"),float(\"infinity\"))\n",
    "    queue.append(root)\n",
    "    i=1\n",
    "    while i<n and queue:\n",
    "        parent=queue.pop(0)\n",
    "        if arr[i]>parent.min and arr[i]<parent.data:\n",
    "            queue.append(Node(arr[i],parent.min,parent.data))\n",
    "            i+=1\n",
    "        if arr[i]>parent.data and arr[i]<parent.max:\n",
    "            queue.append(Node(arr[i],parent.data,parent.max))\n",
    "            i+=1\n",
    "    if i==n:\n",
    "        print(\"Yes array represents LOT of BST\")\n",
    "    else:\n",
    "        print(\"No array does not represent LOT of BST\")\n",
    "\n",
    "if __name__ == '__main__':\n",
    "    arr1=[11, 6, 13, 5, 12, 10]\n",
    "    arr2=[7, 4, 12, 3, 6, 8, 1, 5, 10]\n",
    "    isBST(arr1)\n",
    "    isBST(arr2)\n"
   ]
  },
  {
   "cell_type": "markdown",
   "metadata": {},
   "source": [
    "# Check if a given array can represent Preorder Traversal of Binary Search Tree"
   ]
  },
  {
   "cell_type": "markdown",
   "metadata": {},
   "source": [
    "TODO"
   ]
  },
  {
   "cell_type": "markdown",
   "metadata": {},
   "source": [
    "# A program to check if a binary tree is BST or not"
   ]
  },
  {
   "cell_type": "code",
   "execution_count": 1,
   "metadata": {},
   "outputs": [
    {
     "name": "stdout",
     "output_type": "stream",
     "text": [
      "True\n"
     ]
    }
   ],
   "source": [
    "class Node:\n",
    "    def __init__(self,data):\n",
    "        self.data=data\n",
    "        self.left=None\n",
    "        self.right=None\n",
    "\n",
    "def maxNode(root):\n",
    "    if root is None:\n",
    "        return\n",
    "    curr=root\n",
    "    while curr.right:\n",
    "        curr=curr.right\n",
    "    return curr.data\n",
    "\n",
    "def minNode(root):\n",
    "    if root is None:\n",
    "        return\n",
    "    curr=root\n",
    "    while curr.left:\n",
    "        curr=curr.left\n",
    "    return curr.data\n",
    "\n",
    "'''\n",
    "def isBST(root):\n",
    "    if root is None:\n",
    "        return True\n",
    "    if root.left is not None and maxNode(root.left)>root.data:\n",
    "        return False\n",
    "    if root.right is not None and minNode(root.right)<root.data:\n",
    "        return False\n",
    "    if not isBST(root.left) or not isBST(root.right):\n",
    "        return False\n",
    "    return True\n",
    "'''\n",
    "\n",
    "'''\n",
    "def isBSTRecur(root,min,max):\n",
    "    if root is None:\n",
    "        return True\n",
    "    if root.data<min or root.data>max:\n",
    "        return False\n",
    "    if not isBSTRecur(root.left,min,root.data) or not isBSTRecur(root.right,root.data,max):\n",
    "        return False\n",
    "    return True\n",
    "\n",
    "def isBST(root):\n",
    "    int_min=float(\"-infinity\")\n",
    "    int_max=float(\"infinity\")\n",
    "    return isBSTRecur(root,int_min,int_max)\n",
    "'''\n",
    "\n",
    "def isBSTRecur(root,prev):\n",
    "    if root is None:\n",
    "        return True\n",
    "    isBSTRecur(root.left,prev)\n",
    "    if prev[0] is not None and root.data<prev[0]:\n",
    "        return False\n",
    "    prev[0]=root.data\n",
    "    isBSTRecur(root.right,prev)\n",
    "    return True\n",
    "\n",
    "def isBST(root):\n",
    "    prev=[None]\n",
    "    return isBSTRecur(root,prev)\n",
    "\n",
    "\n",
    "if __name__ == '__main__':\n",
    "    root=Node(4)\n",
    "    root.left=Node(2)\n",
    "    root.right=Node(5)\n",
    "    root.left.left=Node(1)\n",
    "    root.left.right=Node(3)\n",
    "    print(isBST(root))\n"
   ]
  },
  {
   "cell_type": "markdown",
   "metadata": {},
   "source": [
    "# Find k-th smallest element in BST (Order Statistics in BST)"
   ]
  },
  {
   "cell_type": "code",
   "execution_count": 4,
   "metadata": {},
   "outputs": [
    {
     "name": "stdout",
     "output_type": "stream",
     "text": [
      "10\n"
     ]
    }
   ],
   "source": [
    "class Node:\n",
    "    def __init__(self,data):\n",
    "        self.data=data\n",
    "        self.left=None\n",
    "        self.right=None\n",
    "\n",
    "'''\n",
    "def storeInorder(root,arr):\n",
    "    if root is None:\n",
    "        return\n",
    "    storeInorder(root.left,arr)\n",
    "    arr.append(root.data)\n",
    "    storeInorder(root.right,arr)\n",
    "\n",
    "def findSmallest(root,k):\n",
    "    arr=[]\n",
    "    storeInorder(root,arr)\n",
    "    return arr[k-1]\n",
    "'''\n",
    "'''\n",
    "def findSmallestRecur(root,k,n):\n",
    "    if root is None:\n",
    "        return\n",
    "    findSmallestRecur(root.left,k,n)\n",
    "    if k==n[0]:\n",
    "        print(root.data)\n",
    "        n[0]+=1\n",
    "        return root.data\n",
    "    n[0]+=1\n",
    "    findSmallestRecur(root.right,k,n)\n",
    "\n",
    "def findSmallest(root,k):\n",
    "    n=[1]\n",
    "    return findSmallestRecur(root,k,n)\n",
    "'''\n",
    "\n",
    "def countNodes(root,n):\n",
    "    if root is None:\n",
    "        return n[0]\n",
    "    countNodes(root.left,n)\n",
    "    n[0]+=1\n",
    "    countNodes(root.right,n)\n",
    "\n",
    "def findSmallest(root,k):\n",
    "    if root is None:\n",
    "        return None\n",
    "    n=[0]\n",
    "    countNodes(root.left,n)\n",
    "    #print(root.data,n[0],k)\n",
    "    if k==n[0]+1:\n",
    "        return root.data\n",
    "    elif k<=n[0]:\n",
    "        return findSmallest(root.left,k)\n",
    "    else:\n",
    "        return findSmallest(root.right,k-n[0]-1)\n",
    "\n",
    "\n",
    "if __name__ == '__main__':\n",
    "    root=Node(20)\n",
    "    root.left=Node(8)\n",
    "    root.right=Node(22)\n",
    "    root.left.left=Node(4)\n",
    "    root.left.right=Node(12)\n",
    "    root.left.right.left=Node(10)\n",
    "    root.left.right.right=Node(14)\n",
    "    k=3\n",
    "    result=findSmallest(root,k)\n",
    "    print(result)\n"
   ]
  },
  {
   "cell_type": "markdown",
   "metadata": {},
   "source": [
    "**Approach-> Augmented Tree**\n",
    "\n",
    "The idea is to maintain the rank of each node. We can keep track of elements in the left subtree of every node while building the tree. Since we need the K-th smallest element, we can maintain the number of elements of the left subtree in every node.\n",
    "Assume that the root is having ‘lCount’ nodes in its left subtree. If K = lCount + 1, root is K-th node. If K < lCount + 1, we will continue our search (recursion) for the Kth smallest element in the left subtree of root. If K > lCount + 1, we continue our search in the right subtree for the (K – lCount – 1)-th smallest element. Note that we need the count of elements in the left subtree only."
   ]
  },
  {
   "cell_type": "code",
   "execution_count": 1,
   "metadata": {},
   "outputs": [
    {
     "name": "stdout",
     "output_type": "stream",
     "text": [
      "10\n"
     ]
    }
   ],
   "source": [
    "class Node:\n",
    "    def __init__(self,data):\n",
    "        self.data=data\n",
    "        self.left=None\n",
    "        self.right=None\n",
    "        self.lCount=0\n",
    "\n",
    "def insert(root,key):\n",
    "    if root is None:\n",
    "        return Node(key)\n",
    "    if key<root.data:\n",
    "        root.left=insert(root.left,key)\n",
    "        root.lCount+=1\n",
    "    if key>root.data:\n",
    "        root.right=insert(root.right,key)\n",
    "    return root\n",
    "\n",
    "def getKSmallest(root,k):\n",
    "    if root is None:\n",
    "        return\n",
    "    if k==root.lCount+1:\n",
    "        return root.data\n",
    "    if k<=root.lCount:\n",
    "        return getKSmallest(root.left,k)\n",
    "    return getKSmallest(root.right,k-root.lCount-1)\n",
    "\n",
    "\n",
    "if __name__ == '__main__':\n",
    "    root=None\n",
    "    root=insert(root,20)\n",
    "    root=insert(root, 8)\n",
    "    root=insert(root,22)\n",
    "    root=insert(root,4)\n",
    "    root=insert(root, 12)\n",
    "    root=insert(root,10)\n",
    "    root=insert(root,14)\n",
    "\n",
    "    print(getKSmallest(root,3))\n"
   ]
  },
  {
   "cell_type": "markdown",
   "metadata": {},
   "source": [
    "Time Complexity O(h) where h is the height of the Binary Search Tree"
   ]
  },
  {
   "cell_type": "markdown",
   "metadata": {},
   "source": [
    "# Check if each internal node of a BST has exactly one child\n",
    "Same as checking if the tree can be formed of level n from a n sized array"
   ]
  },
  {
   "cell_type": "code",
   "execution_count": 2,
   "metadata": {},
   "outputs": [
    {
     "name": "stdout",
     "output_type": "stream",
     "text": [
      "True\n",
      "True\n"
     ]
    }
   ],
   "source": [
    "def checkIfEachNodeHasOneChild(arr):\n",
    "    if len(arr)==0:\n",
    "        return True\n",
    "    min=float(\"-infinity\")\n",
    "    max=float(\"infinity\")\n",
    "    flag=True\n",
    "    for i in range(1,len(arr)):\n",
    "        if arr[i]>arr[i-1] and arr[i]>min and arr[i]<max:\n",
    "            min=arr[i-1]\n",
    "        elif arr[i]>min and arr[i]<max:\n",
    "            max=arr[i-1]\n",
    "        else:\n",
    "            flag=False\n",
    "            break\n",
    "    return flag\n",
    "\n",
    "\n",
    "if __name__ == '__main__':\n",
    "    arr=[20, 10, 11, 13, 12]\n",
    "    print(checkIfEachNodeHasOneChild(arr))\n",
    "\n",
    "    arr=[8,3,5,7,6]\n",
    "    print(checkIfEachNodeHasOneChild(arr))\n"
   ]
  },
  {
   "cell_type": "markdown",
   "metadata": {},
   "source": [
    "Time Complexity O(n)"
   ]
  },
  {
   "cell_type": "markdown",
   "metadata": {},
   "source": [
    "# Check for Identical BSTs without building the trees"
   ]
  },
  {
   "cell_type": "markdown",
   "metadata": {},
   "source": [
    "The idea is to check of if next smaller coming and greater coming elements are same in both arrays."
   ]
  },
  {
   "cell_type": "code",
   "execution_count": 1,
   "metadata": {},
   "outputs": [
    {
     "name": "stdout",
     "output_type": "stream",
     "text": [
      "True\n"
     ]
    }
   ],
   "source": [
    "def isIdenticalRecur(arr1,arr2,n,i,j,intmin,intmax):\n",
    "    x=i;y=j\n",
    "    # check for the element in left subtree (smallest)\n",
    "    while x<n:\n",
    "        if arr1[x]>intmin and arr1[x]<intmax:\n",
    "            break\n",
    "        x+=1\n",
    "    # check for the element in the right subtree (largest)\n",
    "    while y<n:\n",
    "        if arr2[y]>intmin and arr2[y]<intmax:\n",
    "            break\n",
    "        y+=1\n",
    "    # if the root is leaf\n",
    "    if x==n and y==n:\n",
    "        return True\n",
    "    # if one is leaf and the other is not OR the elements of left/right subtree is not equal\n",
    "    if ((x==n) ^ (y==n)) or arr1[x]!=arr2[y]:\n",
    "        return False\n",
    "    # recur for right subtree and left subtree\n",
    "    return isIdenticalRecur(arr1,arr2,n,x+1,y+1,arr1[x],intmax) and isIdenticalRecur(arr1,arr2,n,x+1,y+1,intmin,arr1[x])\n",
    "\n",
    "def isIdentical(arr1,arr2,n):\n",
    "    intmin=float(\"-infinity\")\n",
    "    intmax=float(\"infinity\")\n",
    "    return isIdenticalRecur(arr1,arr2,n,0,0,intmin,intmax)\n",
    "\n",
    "\n",
    "if __name__ == '__main__':\n",
    "    arr1=[2, 4, 3, 1]\n",
    "    arr2=[2, 1, 4, 3]\n",
    "    n=len(arr1)\n",
    "    print(isIdentical(arr1,arr2,n))\n"
   ]
  },
  {
   "cell_type": "markdown",
   "metadata": {},
   "source": [
    "Time Complexity O(n*n)"
   ]
  },
  {
   "cell_type": "markdown",
   "metadata": {},
   "source": [
    "# K’th Largest Element in BST when modification to BST is not allowed\n",
    "\n",
    "Do Reverse Inorder and count the nodes till k"
   ]
  },
  {
   "cell_type": "code",
   "execution_count": 2,
   "metadata": {},
   "outputs": [
    {
     "name": "stdout",
     "output_type": "stream",
     "text": [
      "14\n",
      "10\n"
     ]
    }
   ],
   "source": [
    "class Node:\n",
    "    def __init__(self,data):\n",
    "        self.data=data\n",
    "        self.left=None\n",
    "        self.right=None\n",
    "\n",
    "def getKLargestUtil(root,count,k):\n",
    "    if root is None:\n",
    "        return\n",
    "    right=getKLargestUtil(root.right,count,k)\n",
    "    if right:\n",
    "        return right\n",
    "    if count[0]==k:\n",
    "        return root.data\n",
    "    count[0]+=1\n",
    "    return getKLargestUtil(root.left,count,k)\n",
    "\n",
    "def getKLargest(root,k):\n",
    "    count=[1]\n",
    "    return getKLargestUtil(root,count,k)\n",
    "\n",
    "if __name__ == '__main__':\n",
    "    root=Node(20)\n",
    "    root.left=Node(8)\n",
    "    root.right=Node(22)\n",
    "    root.left.left=Node(4)\n",
    "    root.left.right=Node(12)\n",
    "    root.left.right.left=Node(10)\n",
    "    root.left.right.right=Node(14)\n",
    "    print(getKLargest(root,3))\n",
    "    print(getKLargest(root,5))\n"
   ]
  },
  {
   "cell_type": "markdown",
   "metadata": {},
   "source": [
    "Time Complexity O(h+k) The code first traverses down to the rightmost node which takes O(h) time, then traverses k elements in O(k) time. Therefore overall time complexity is O(h + k)."
   ]
  },
  {
   "cell_type": "markdown",
   "metadata": {},
   "source": [
    "# K’th Largest element in BST using constant extra space\n",
    "Reverse Morris Traversal"
   ]
  },
  {
   "cell_type": "code",
   "execution_count": 1,
   "metadata": {},
   "outputs": [
    {
     "name": "stdout",
     "output_type": "stream",
     "text": [
      "40\n"
     ]
    }
   ],
   "source": [
    "class Node:\n",
    "    def __init__(self,data):\n",
    "        self.data=data\n",
    "        self.left=None\n",
    "        self.right=None\n",
    "\n",
    "def inorder(root,k):\n",
    "    n=1\n",
    "    if root is None:\n",
    "        return\n",
    "    curr=root\n",
    "    while curr:\n",
    "        if curr.right is None:\n",
    "            if n==k:\n",
    "                return curr.data\n",
    "                #print(curr.data,end=\" \")\n",
    "            else:\n",
    "                n+=1\n",
    "                curr=curr.left\n",
    "        else:\n",
    "            prev=curr.right\n",
    "            while prev.left is not None and prev.left is not curr:\n",
    "                prev=prev.left\n",
    "            if prev.left is None:\n",
    "                prev.left=curr\n",
    "                curr=curr.right\n",
    "            else:\n",
    "                if n==k:\n",
    "                    return curr.data\n",
    "                else:\n",
    "                    #print(curr.data,end=\" \")\n",
    "                    n+=1\n",
    "                    curr=curr.left\n",
    "                    prev.left=None\n",
    "\n",
    "def inorderTraverse(root):\n",
    "    if root is None:\n",
    "        return\n",
    "    inorderTraverse(root.right)\n",
    "    print(root.data,end=\" \")\n",
    "    inorderTraverse(root.left)\n",
    "\n",
    "\n",
    "if __name__ == '__main__':\n",
    "    root=Node(10)\n",
    "    root.left=Node(4)\n",
    "    root.right=Node(20)\n",
    "    root.left.left=Node(2)\n",
    "    root.right.left=Node(15)\n",
    "    root.right.right=Node(40)\n",
    "    result=inorder(root,1)\n",
    "    print(result)\n",
    "\n",
    "    #inorderTraverse(root)\n"
   ]
  },
  {
   "cell_type": "markdown",
   "metadata": {},
   "source": [
    "# Second largest element in BST\n",
    "Prev Approaches"
   ]
  },
  {
   "cell_type": "markdown",
   "metadata": {},
   "source": [
    "Storing Array, Reverse Inorder, Augumented Tree, Reverse Morris Travseral "
   ]
  },
  {
   "cell_type": "markdown",
   "metadata": {},
   "source": [
    "# K’th smallest element in BST using O(1) Extra Space\n",
    "Morris Traversal"
   ]
  },
  {
   "cell_type": "markdown",
   "metadata": {},
   "source": [
    "# Check if given sorted sub-sequence exists in binary search tree"
   ]
  },
  {
   "cell_type": "code",
   "execution_count": 3,
   "metadata": {},
   "outputs": [
    {
     "name": "stdout",
     "output_type": "stream",
     "text": [
      "True\n"
     ]
    }
   ],
   "source": [
    "class Node:\n",
    "    def __init__(self,data):\n",
    "        self.data=data\n",
    "        self.left=None\n",
    "        self.right=None\n",
    "\n",
    "def checkSubSeq(root,arr,i,n):\n",
    "    if root is None or i[0]>=n:\n",
    "        return\n",
    "    checkSubSeq(root.left,arr,i,n)\n",
    "    if root.data==arr[i[0]]:\n",
    "        i[0]+=1\n",
    "        #if i[0]==n:\n",
    "            #print(root.data, i[0],n)\n",
    "            #print(\"Sub Sequence Present\")\n",
    "            #i[0]+=1\n",
    "    checkSubSeq(root.right,arr,i,n)\n",
    "\n",
    "def inorder(root):\n",
    "    if root is None:\n",
    "        return\n",
    "    inorder(root.left)\n",
    "    print(root.data,end=\" \")\n",
    "    inorder(root.right)\n",
    "\n",
    "if __name__ == '__main__':\n",
    "    root=Node(8)\n",
    "    root.left=Node(3)\n",
    "    root.right=Node(10)\n",
    "    root.left.left=Node(1)\n",
    "    root.left.right=Node(6)\n",
    "    root.left.right.left=Node(4)\n",
    "    root.left.right.right=Node(7)\n",
    "    root.right.right=Node(14)\n",
    "    root.right.right.left=Node(13)\n",
    "    #inorder(root)\n",
    "    arr=[4,6,8,14]\n",
    "    i=[0]\n",
    "    n=len(arr)\n",
    "    checkSubSeq(root,arr,i,n)\n",
    "    if i[0]==n:\n",
    "        print(True)\n",
    "    else:\n",
    "        print(False)\n"
   ]
  },
  {
   "cell_type": "markdown",
   "metadata": {},
   "source": [
    "# Simple Recursive solution to check whether BST contains dead end"
   ]
  },
  {
   "cell_type": "code",
   "execution_count": 4,
   "metadata": {},
   "outputs": [
    {
     "name": "stdout",
     "output_type": "stream",
     "text": [
      "True\n"
     ]
    }
   ],
   "source": [
    "class Node:\n",
    "    def __init__(self,data):\n",
    "        self.data=data\n",
    "        self.left=None\n",
    "        self.right=None\n",
    "\n",
    "def containsDeadEnd(root,minimum,maximum):\n",
    "    if root is None:\n",
    "        return False\n",
    "    #print(root.data,minimum,maximum)\n",
    "    if minimum==maximum:\n",
    "        #print(\"inside\")\n",
    "        #print(minimum,maximum)\n",
    "        return True\n",
    "    return containsDeadEnd(root.left,minimum,root.data-1) or containsDeadEnd(root.right,root.data+1,maximum)\n",
    "\n",
    "if __name__ == '__main__':\n",
    "    '''\n",
    "    root=Node(8)\n",
    "    root.left=Node(5)\n",
    "    root.right=Node(9)\n",
    "    root.left.left=Node(2)\n",
    "    root.left.right=Node(7)\n",
    "    root.left.left.left=Node(1)\n",
    "    '''\n",
    "    root=Node(8)\n",
    "    root.left=Node(7)\n",
    "    root.right=Node(10)\n",
    "    root.left.left=Node(2)\n",
    "    root.right.left=Node(9)\n",
    "    root.right.right=Node(13)\n",
    "    print(containsDeadEnd(root,1,float(\"infinity\")))\n"
   ]
  },
  {
   "cell_type": "markdown",
   "metadata": {},
   "source": [
    "# Check if an array represents Inorder of Binary Search tree or not"
   ]
  },
  {
   "cell_type": "code",
   "execution_count": 5,
   "metadata": {},
   "outputs": [
    {
     "name": "stdout",
     "output_type": "stream",
     "text": [
      "False\n"
     ]
    }
   ],
   "source": [
    "def repInorder(arr):\n",
    "    if len(arr)==0:\n",
    "        return True\n",
    "    for i in range(1,len(arr)):\n",
    "        if arr[i]<arr[i-1]:\n",
    "            return False\n",
    "    return True\n",
    "\n",
    "if __name__ == '__main__':\n",
    "    arr=[19, 23, 25, 30, 45]\n",
    "    arr=[19, 23, 30, 25, 45]\n",
    "    print(repInorder(arr))\n"
   ]
  },
  {
   "cell_type": "markdown",
   "metadata": {},
   "source": [
    "# Check if two BSTs contain same set of elements"
   ]
  },
  {
   "cell_type": "code",
   "execution_count": 6,
   "metadata": {},
   "outputs": [
    {
     "name": "stdout",
     "output_type": "stream",
     "text": [
      "True\n"
     ]
    }
   ],
   "source": [
    "class Node:\n",
    "    def __init__(self,data):\n",
    "        self.data=data\n",
    "        self.left=None\n",
    "        self.right=None\n",
    "\n",
    "\n",
    "\n",
    "def isSameEle(root1,root2):\n",
    "    if root1 is None and root2 is None:\n",
    "        return True\n",
    "    arr1=[]\n",
    "    arr2=[]\n",
    "    storeInorder(root1,arr1)\n",
    "    storeInorder(root2,arr2)\n",
    "    return arr1==arr2\n",
    "\n",
    "def storeInorder(root,arr):\n",
    "    if root is None:\n",
    "        return\n",
    "    storeInorder(root.left,arr)\n",
    "    arr.append(root.data)\n",
    "    storeInorder(root.right,arr)\n",
    "\n",
    "if __name__ == '__main__':\n",
    "    root1=Node(15)\n",
    "    root1.left=Node(10)\n",
    "    root1.right=Node(20)\n",
    "    root1.left.left=Node(5)\n",
    "    root1.left.right=Node(12)\n",
    "    root1.right.right=Node(25)\n",
    "\n",
    "    root2=Node(15)\n",
    "    root2.left=Node(12)\n",
    "    root2.right=Node(20)\n",
    "    root2.right.right=Node(25)\n",
    "    root2.left.left=Node(5)\n",
    "    root2.left.left.right=Node(10)\n",
    "\n",
    "    result=isSameEle(root1,root2)\n",
    "    print(result)\n"
   ]
  },
  {
   "cell_type": "markdown",
   "metadata": {},
   "source": [
    "# Largest number in BST which is less than or equal to N"
   ]
  },
  {
   "cell_type": "code",
   "execution_count": 7,
   "metadata": {},
   "outputs": [
    {
     "name": "stdout",
     "output_type": "stream",
     "text": [
      "19\n"
     ]
    }
   ],
   "source": [
    "class Node:\n",
    "    def __init__(self,data):\n",
    "        self.data=data\n",
    "        self.left=None\n",
    "        self.right=None\n",
    "'''\n",
    "ele=-1\n",
    "def findEle(root,n):\n",
    "    global ele\n",
    "    if root is None:\n",
    "        return\n",
    "    if root.data<=n:\n",
    "        ele=root.data\n",
    "        findEle(root.right,n)\n",
    "    else:\n",
    "        findEle(root.left,n)\n",
    "'''\n",
    "\n",
    "#Eliminating global variable\n",
    "\n",
    "def findEle(root,n):\n",
    "    if root is None:\n",
    "        return -1\n",
    "    if root.data==n:\n",
    "        return root.data\n",
    "    elif root.data<n:\n",
    "        k=findEle(root.right,n)\n",
    "        if k==-1:\n",
    "            return root.data\n",
    "        else:\n",
    "            return k\n",
    "    elif root.data>n:\n",
    "        return findEle(root.left,n)\n",
    "\n",
    "if __name__ == '__main__':\n",
    "    root=Node(5)\n",
    "    root.left=Node(2)\n",
    "    root.left.left=Node(1)\n",
    "    root.left.right=Node(3)\n",
    "    root.right=Node(12)\n",
    "    root.right.left=Node(9)\n",
    "    root.right.right=Node(21)\n",
    "    root.right.right.left=Node(19)\n",
    "    root.right.right.right=Node(25)\n",
    "    print(findEle(root,20))\n",
    "    #print(ele)\n"
   ]
  },
  {
   "cell_type": "markdown",
   "metadata": {},
   "source": [
    "# Iterative searching in Binary Search Tree"
   ]
  },
  {
   "cell_type": "code",
   "execution_count": 8,
   "metadata": {},
   "outputs": [
    {
     "name": "stdout",
     "output_type": "stream",
     "text": [
      "True\n"
     ]
    }
   ],
   "source": [
    "class Node:\n",
    "    def __init__(self,data):\n",
    "        self.data=data\n",
    "        self.left=None\n",
    "        self.right=None\n",
    "\n",
    "def findEle(root,ele):\n",
    "    if root is None:\n",
    "        #print('Element not found')\n",
    "        return True\n",
    "    curr=root\n",
    "    while curr:\n",
    "        if curr.data==ele:\n",
    "            #print(\"Element found\")\n",
    "            return True\n",
    "        elif curr.data>ele:\n",
    "            curr=curr.left\n",
    "        else:\n",
    "            curr=curr.right\n",
    "    return False\n",
    "\n",
    "if __name__ == '__main__':\n",
    "    root=Node(5)\n",
    "    root.left=Node(2)\n",
    "    root.left.left=Node(1)\n",
    "    root.left.right=Node(3)\n",
    "    root.right=Node(12)\n",
    "    root.right.left=Node(9)\n",
    "    root.right.right=Node(21)\n",
    "    root.right.right.left=Node(19)\n",
    "    root.right.right.right=Node(25)\n",
    "    print(findEle(root,1))\n",
    "    #print(ele)\n"
   ]
  },
  {
   "cell_type": "markdown",
   "metadata": {},
   "source": [
    "# Find distance between two nodes of a Binary Search Tree"
   ]
  },
  {
   "cell_type": "code",
   "execution_count": 9,
   "metadata": {},
   "outputs": [
    {
     "name": "stdout",
     "output_type": "stream",
     "text": [
      "3\n"
     ]
    }
   ],
   "source": [
    "class Node:\n",
    "    def __init__(self,data):\n",
    "        self.data=data\n",
    "        self.left=None\n",
    "        self.right=None\n",
    "\n",
    "def findDistance(root,a,b):\n",
    "    if root is None:\n",
    "        return\n",
    "    curr=root\n",
    "    while curr:\n",
    "        if curr.data>a and curr.data>b:\n",
    "            curr=curr.left\n",
    "        elif curr.data<a and curr.data<b:\n",
    "            curr=curr.right\n",
    "        else:\n",
    "            return distanceFromRoot(curr,a)+distanceFromRoot(curr,b)\n",
    "\n",
    "def distanceFromRoot(root,value):\n",
    "    if root.data ==value:\n",
    "        return 0\n",
    "    if root.data<value:\n",
    "        return 1+distanceFromRoot(root.right,value)\n",
    "    return 1+distanceFromRoot(root.left,value)\n",
    "\n",
    "\n",
    "def inorder(root):\n",
    "    if root is None:\n",
    "        return\n",
    "    inorder(root.left)\n",
    "    print(root.data,end=\" \")\n",
    "    inorder(root.right)\n",
    "\n",
    "if __name__ == '__main__':\n",
    "    root=Node(5)\n",
    "    root.left=Node(2)\n",
    "    root.left.left=Node(1)\n",
    "    root.left.right=Node(3)\n",
    "    root.right=Node(12)\n",
    "    root.right.left=Node(9)\n",
    "    root.right.right=Node(21)\n",
    "    root.right.right.left=Node(19)\n",
    "    root.right.right.right=Node(25)\n",
    "    #inorder(root)\n",
    "    print(findDistance(root,9,25))\n"
   ]
  },
  {
   "cell_type": "markdown",
   "metadata": {},
   "source": [
    "# Count pairs from two BSTs whose sum is equal to a given value x"
   ]
  },
  {
   "cell_type": "code",
   "execution_count": 1,
   "metadata": {},
   "outputs": [
    {
     "name": "stdout",
     "output_type": "stream",
     "text": [
      "3\n"
     ]
    }
   ],
   "source": [
    "class Node:\n",
    "    def __init__(self,data):\n",
    "        self.data=data\n",
    "        self.left=None\n",
    "        self.right=None\n",
    "\n",
    "def storeInorder(root,arr):\n",
    "    if root is None:\n",
    "        return\n",
    "    storeInorder(root.left,arr)\n",
    "    arr.append(root.data)\n",
    "    storeInorder(root.right,arr)\n",
    "\n",
    "def countPairs(root1,root2,val):\n",
    "    if root1 is None or root2 is None:\n",
    "        return 0\n",
    "    count=0\n",
    "    a=[];b=[]\n",
    "    storeInorder(root1,a)\n",
    "    storeInorder(root2,b)\n",
    "    i=0;m=len(a)\n",
    "    j=len(b)-1;n=len(b)\n",
    "    while i<m and j<n:\n",
    "        if a[i]+b[j]==val:\n",
    "            count+=1\n",
    "            i+=1\n",
    "            j-=1\n",
    "        elif a[i]+b[j]<val:\n",
    "            i+=1\n",
    "        else:\n",
    "            j-=1\n",
    "    return count\n",
    "\n",
    "if __name__ == '__main__':\n",
    "    root1=Node(5)\n",
    "    root1.left=Node(3)\n",
    "    root1.right=Node(7)\n",
    "    root1.left.left=Node(2)\n",
    "    root1.left.right=Node(4)\n",
    "    root1.right.left=Node(6)\n",
    "    root1.right.right=Node(8)\n",
    "\n",
    "    root2=Node(10)\n",
    "    root2.left=Node(6)\n",
    "    root2.right=Node(15)\n",
    "    root2.left.left=Node(3)\n",
    "    root2.left.right=Node(8)\n",
    "    root2.right.left=Node(11)\n",
    "    root2.right.right=Node(18)\n",
    "\n",
    "    result=countPairs(root1,root2,16)\n",
    "    print(result)\n"
   ]
  },
  {
   "cell_type": "markdown",
   "metadata": {},
   "source": [
    "# Find median of BST in O(n) time and O(1) space"
   ]
  },
  {
   "cell_type": "code",
   "execution_count": 2,
   "metadata": {},
   "outputs": [
    {
     "name": "stdout",
     "output_type": "stream",
     "text": [
      "4 8 10 12 14 20 22 \n",
      "12\n"
     ]
    }
   ],
   "source": [
    "class Node:\n",
    "    def __init__(self,data):\n",
    "        self.data=data\n",
    "        self.left=None\n",
    "        self.right=None\n",
    "\n",
    "def countNodes(root):\n",
    "    if root is None:\n",
    "        return 0\n",
    "    count=0\n",
    "    curr=root\n",
    "    while curr:\n",
    "        if curr.left is None:\n",
    "            count+=1\n",
    "            curr=curr.right\n",
    "        else:\n",
    "            prev=curr.left\n",
    "            while prev.right is not None and prev.right is not curr:\n",
    "                prev=prev.right\n",
    "            if prev.right is None:\n",
    "                prev.right=curr\n",
    "                curr=curr.left\n",
    "            else:\n",
    "                count+=1\n",
    "                prev.right=None\n",
    "                curr=curr.right\n",
    "\n",
    "    return count\n",
    "\n",
    "def findMedian(root):\n",
    "    if root is None:\n",
    "        return None\n",
    "    c=0\n",
    "    total=countNodes(root)\n",
    "    n=total//2\n",
    "    prevNode=None\n",
    "    curr=root\n",
    "    while curr:\n",
    "        if curr.left is None:\n",
    "            if c==n:\n",
    "                break\n",
    "            c+=1\n",
    "            prevNode=curr\n",
    "            curr=curr.right\n",
    "        else:\n",
    "            prev=curr.left\n",
    "            while prev.right is not None and prev.right is not curr:\n",
    "                prev=prev.right\n",
    "            if prev.right is None:\n",
    "                prev.right=curr\n",
    "                curr=curr.left\n",
    "            else:\n",
    "                if c==n:\n",
    "                    break\n",
    "                c+=1\n",
    "                prevNode=curr\n",
    "                prev.right=None\n",
    "                curr=curr.right\n",
    "\n",
    "    if total%2!=0:\n",
    "        return curr.data\n",
    "    else:\n",
    "        #print()\n",
    "        return (prev.data+curr.data)//2\n",
    "\n",
    "def inorder(root):\n",
    "    if root is None:\n",
    "        return\n",
    "    inorder(root.left)\n",
    "    print(root.data,end=\" \")\n",
    "    inorder(root.right)\n",
    "\n",
    "if __name__ == '__main__':\n",
    "    root=Node(20)\n",
    "    root.left=Node(8)\n",
    "    root.right=Node(22)\n",
    "    root.left.left=Node(4)\n",
    "    root.left.right=Node(12)\n",
    "    root.left.right.left=Node(10)\n",
    "    root.left.right.right=Node(14)\n",
    "    inorder(root)\n",
    "    print()\n",
    "    result=findMedian(root)\n",
    "    print(result)\n"
   ]
  },
  {
   "cell_type": "markdown",
   "metadata": {},
   "source": [
    "# Largest BST in a Binary Tree | Set 2\n",
    "TO DO"
   ]
  },
  {
   "cell_type": "markdown",
   "metadata": {},
   "source": [
    "# Remove BST keys outside the given range"
   ]
  },
  {
   "cell_type": "code",
   "execution_count": 3,
   "metadata": {},
   "outputs": [
    {
     "name": "stdout",
     "output_type": "stream",
     "text": [
      "-13 -8 6 7 13 14 15 \n",
      "-8 6 7 13 "
     ]
    }
   ],
   "source": [
    "class Node:\n",
    "    def __init__(self,data):\n",
    "        self.data=data\n",
    "        self.left=None\n",
    "        self.right=None\n",
    "\n",
    "def removeNodes(root,minval,maxval):\n",
    "    if root is None:\n",
    "        return None\n",
    "    root.left=removeNodes(root.left,minval,maxval)\n",
    "    root.right=removeNodes(root.right,minval,maxval)\n",
    "\n",
    "    if root.data<minval:\n",
    "        rightchild=root.right\n",
    "        root=None\n",
    "        return rightchild\n",
    "    if root.data>maxval:\n",
    "        leftChild=root.left\n",
    "        root=None\n",
    "        return leftChild\n",
    "\n",
    "    return root\n",
    "\n",
    "def inorder(root):\n",
    "    if root is None:\n",
    "        return\n",
    "    inorder(root.left)\n",
    "    print(root.data,end=\" \")\n",
    "    inorder(root.right)\n",
    "\n",
    "if __name__ == '__main__':\n",
    "    root=Node(6)\n",
    "    root.left=Node(-13)\n",
    "    root.left.right=Node(-8)\n",
    "    root.right=Node(14)\n",
    "    root.right.left=Node(13)\n",
    "    root.right.right=Node(15)\n",
    "    root.right.left.left=Node(7)\n",
    "    inorder(root)\n",
    "    print()\n",
    "    removeNodes(root,-10,13)\n",
    "    inorder(root)\n"
   ]
  },
  {
   "cell_type": "markdown",
   "metadata": {},
   "source": [
    "# Print BST keys in the given range"
   ]
  },
  {
   "cell_type": "code",
   "execution_count": 4,
   "metadata": {},
   "outputs": [
    {
     "name": "stdout",
     "output_type": "stream",
     "text": [
      "12 20 22 "
     ]
    }
   ],
   "source": [
    "class Node:\n",
    "    def __init__(self,data):\n",
    "        self.data=data\n",
    "        self.left=None\n",
    "        self.right=None\n",
    "\n",
    "def inorder(root,minval,maxval):\n",
    "    if root is None:\n",
    "        return\n",
    "    inorder(root.left,minval,maxval)\n",
    "    if root.data>=minval and root.data<=maxval:\n",
    "        print(root.data,end=\" \")\n",
    "    inorder(root.right,minval,maxval)\n",
    "\n",
    "if __name__ == '__main__':\n",
    "    root=Node(20)\n",
    "    root.left=Node(8)\n",
    "    root.left.left=Node(4)\n",
    "    root.left.right=Node(12)\n",
    "    root.right=Node(22)\n",
    "    inorder(root,10,22)\n",
    "    \n"
   ]
  },
  {
   "cell_type": "markdown",
   "metadata": {},
   "source": [
    "# Print BST keys in given Range | O(1) Space"
   ]
  },
  {
   "cell_type": "code",
   "execution_count": 5,
   "metadata": {},
   "outputs": [
    {
     "name": "stdout",
     "output_type": "stream",
     "text": [
      "4 6 7 10 "
     ]
    }
   ],
   "source": [
    "class Node:\n",
    "    def __init__(self,data):\n",
    "        self.data=data\n",
    "        self.left=None\n",
    "        self.right=None\n",
    "\n",
    "def inorder(root,minval,maxval):\n",
    "    if root is None:\n",
    "        return\n",
    "    curr=root\n",
    "    while curr:\n",
    "        if curr.left is None:\n",
    "            if curr.data>=minval and curr.data<=maxval:\n",
    "                print(curr.data,end=\" \")\n",
    "            curr=curr.right\n",
    "        else:\n",
    "            prev=curr.left\n",
    "            while prev.right is not None and prev.right is not curr:\n",
    "                prev=prev.right\n",
    "            if prev.right is None:\n",
    "                prev.right=curr\n",
    "                curr=curr.left\n",
    "            else:\n",
    "                if curr.data>=minval and curr.data<=maxval:\n",
    "                    print(curr.data,end=\" \")\n",
    "                prev.right=None\n",
    "                curr=curr.right\n",
    "\n",
    "\n",
    "if __name__ == '__main__':\n",
    "    root=Node(4)\n",
    "    root.left=Node(2)\n",
    "    root.right=Node(7)\n",
    "    root.left.left=Node(1)\n",
    "    root.left.right=Node(3)\n",
    "    root.right.left=Node(6)\n",
    "    root.right.right=Node(10)\n",
    "    inorder(root,4,12)\n"
   ]
  },
  {
   "cell_type": "markdown",
   "metadata": {},
   "source": [
    "# Count BST nodes that lie in a given range"
   ]
  },
  {
   "cell_type": "code",
   "execution_count": 6,
   "metadata": {},
   "outputs": [
    {
     "name": "stdout",
     "output_type": "stream",
     "text": [
      "3\n"
     ]
    }
   ],
   "source": [
    "class Node:\n",
    "    def __init__(self,data):\n",
    "        self.data=data\n",
    "        self.left=None\n",
    "        self.right=None\n",
    "\n",
    "def inorder(root,minval,maxval):\n",
    "    if root is None:\n",
    "        return\n",
    "    count=0\n",
    "    curr=root\n",
    "    while curr:\n",
    "        if curr.left is None:\n",
    "            if curr.data>=minval and curr.data<=maxval:\n",
    "                #print(curr.data,end=\" \")\n",
    "                count+=1\n",
    "            curr=curr.right\n",
    "        else:\n",
    "            prev=curr.left\n",
    "            while prev.right is not None and prev.right is not curr:\n",
    "                prev=prev.right\n",
    "            if prev.right is None:\n",
    "                prev.right=curr\n",
    "                curr=curr.left\n",
    "            else:\n",
    "                if curr.data>=minval and curr.data<=maxval:\n",
    "                    #print(curr.data,end=\" \")\n",
    "                    count+=1\n",
    "                prev.right=None\n",
    "                curr=curr.right\n",
    "    return count\n",
    "\n",
    "\n",
    "if __name__ == '__main__':\n",
    "    '''\n",
    "    root=Node(4)\n",
    "    root.left=Node(2)\n",
    "    root.right=Node(7)\n",
    "    root.left.left=Node(1)\n",
    "    root.left.right=Node(3)\n",
    "    root.right.left=Node(6)\n",
    "    root.right.right=Node(10)\n",
    "    '''\n",
    "    root=Node(10)\n",
    "    root.left=Node(5)\n",
    "    root.left.left=Node(1)\n",
    "    root.right=Node(50)\n",
    "    root.right.left=Node(40)\n",
    "    root.right.right=Node(100)\n",
    "    result=inorder(root,5,45)\n",
    "    print(result)\n"
   ]
  },
  {
   "cell_type": "markdown",
   "metadata": {},
   "source": [
    "# Count BST subtrees that lie in given range\n",
    "TO DO"
   ]
  },
  {
   "cell_type": "markdown",
   "metadata": {},
   "source": [
    "# Remove all leaf nodes from the binary search tree"
   ]
  },
  {
   "cell_type": "code",
   "execution_count": 7,
   "metadata": {},
   "outputs": [
    {
     "name": "stdout",
     "output_type": "stream",
     "text": [
      "5 10 15 20 25 30 35 \n",
      "10 20 30 "
     ]
    }
   ],
   "source": [
    "class Node:\n",
    "    def __init__(self,data):\n",
    "        self.data=data\n",
    "        self.left=None\n",
    "        self.right=None\n",
    "\n",
    "def removeLeafNodes(root):\n",
    "    if root is None:\n",
    "        return\n",
    "    if root.left is None and root.right is None:\n",
    "        root=None\n",
    "        return root\n",
    "    root.left=removeLeafNodes(root.left)\n",
    "    root.right=removeLeafNodes(root.right)\n",
    "    return root\n",
    "\n",
    "\n",
    "def inorder(root):\n",
    "    if root is None:\n",
    "        return\n",
    "    inorder(root.left)\n",
    "    print(root.data,end=\" \")\n",
    "    inorder(root.right)\n",
    "\n",
    "if __name__ == '__main__':\n",
    "    root=Node(20)\n",
    "    root.left=Node(10)\n",
    "    root.right=Node(30)\n",
    "    root.left.left=Node(5)\n",
    "    root.left.right=Node(15)\n",
    "    root.right.left=Node(25)\n",
    "    root.right.right=Node(35)\n",
    "    inorder(root)\n",
    "    removeLeafNodes(root)\n",
    "    print()\n",
    "    inorder(root)\n"
   ]
  },
  {
   "cell_type": "markdown",
   "metadata": {},
   "source": [
    "# Sum of k smallest elements in BST"
   ]
  },
  {
   "cell_type": "code",
   "execution_count": 9,
   "metadata": {},
   "outputs": [
    {
     "name": "stdout",
     "output_type": "stream",
     "text": [
      "17\n"
     ]
    }
   ],
   "source": [
    "class Node:\n",
    "    def __init__(self,data):\n",
    "        self.data=data\n",
    "        self.left=None\n",
    "        self.right=None\n",
    "\n",
    "def sumOfKSmallest(root,k):\n",
    "    if root is None or k==0:\n",
    "        return 0\n",
    "    curr=root\n",
    "    total=0\n",
    "    count=1\n",
    "    while curr:\n",
    "        if curr.left is None:\n",
    "            #print(root.data,end=\" \")\n",
    "            if count<=k:\n",
    "                total+=curr.data\n",
    "                count+=1\n",
    "            else:\n",
    "                break\n",
    "            curr=curr.right\n",
    "        else:\n",
    "            prev=curr.left\n",
    "            while prev.right is not None and prev.right is not curr:\n",
    "                prev=prev.right\n",
    "            if prev.right is None:\n",
    "                prev.right =curr\n",
    "                curr=curr.left\n",
    "            else:\n",
    "                #print(root.data,end=\" \")\n",
    "                if count<=k:\n",
    "                    total+=curr.data\n",
    "                    count+=1\n",
    "                else:\n",
    "                    break\n",
    "                curr=curr.right\n",
    "                prev.right=None\n",
    "    return total\n",
    "\n",
    "if __name__ == '__main__':\n",
    "    root=Node(8)\n",
    "    root.left=Node(7)\n",
    "    root.right=Node(10)\n",
    "    root.left.left=Node(2)\n",
    "    root.right.left=Node(9)\n",
    "    root.right.right=Node(13)\n",
    "    result=sumOfKSmallest(root,3)\n",
    "    print(result)\n"
   ]
  },
  {
   "cell_type": "markdown",
   "metadata": {},
   "source": [
    "# Inorder Successor in Binary Search Tree"
   ]
  },
  {
   "cell_type": "code",
   "execution_count": 10,
   "metadata": {},
   "outputs": [
    {
     "name": "stdout",
     "output_type": "stream",
     "text": [
      "20\n"
     ]
    }
   ],
   "source": [
    "class Node:\n",
    "\n",
    "    def __init__(self,data):\n",
    "        self.data=data\n",
    "        self.left=None\n",
    "        self.right=None\n",
    "        #self.parent=None\n",
    "\n",
    "def inorder(root):\n",
    "    if root is None:\n",
    "        return\n",
    "    inorder(root.left)\n",
    "    print(root.data,end=\" \")\n",
    "    inorder(root.right)\n",
    "\n",
    "def minVal(root):\n",
    "    if root is None:\n",
    "        return\n",
    "    curr=root\n",
    "    while curr.left is not None:\n",
    "        curr=curr.left\n",
    "    return curr.data\n",
    "\n",
    "def inorderSuccessor(root,node):\n",
    "    if root is None:\n",
    "        return\n",
    "    if node.right is not None:\n",
    "        return minVal\n",
    "    else:\n",
    "        curr=root\n",
    "        temp=None\n",
    "        while curr:\n",
    "            if node.data<curr.data:\n",
    "                temp=curr\n",
    "                curr=curr.left\n",
    "            else:\n",
    "                curr=curr.right\n",
    "        return temp.data\n",
    "'''\n",
    "def inorderSuccessor(root,node):\n",
    "    if root is None:\n",
    "        return\n",
    "    if node.right is not None:\n",
    "        return minVal(node.right)\n",
    "    else:\n",
    "        p=node.parent\n",
    "        while p is not None:\n",
    "            if node!=p.right:\n",
    "                break\n",
    "            node=p\n",
    "            p=p.parent\n",
    "        return p.data\n",
    "'''\n",
    "def insert(root,data):\n",
    "    if root is None:\n",
    "        root=Node(data)\n",
    "        return root\n",
    "    if data<root.data:\n",
    "        root.left=insert(root.left,data)\n",
    "        root.left.parent=root\n",
    "    else:\n",
    "        root.right=insert(root.right,data)\n",
    "        root.right.parent=root\n",
    "    return root\n",
    "\n",
    "if __name__ == '__main__':\n",
    "    '''\n",
    "    root=None\n",
    "    root=insert(root,20)\n",
    "    insert(root,8)\n",
    "    insert(root,4)\n",
    "    insert(root,12)\n",
    "    insert(root,10)\n",
    "    insert(root,14)\n",
    "    insert(root,22)\n",
    "    inorder(root)\n",
    "    print()\n",
    "    result=inorderSuccessor(root,root.left.left)\n",
    "    print(result)\n",
    "    '''\n",
    "\n",
    "    root=Node(20)\n",
    "    root.left=Node(8)\n",
    "    root.left.left=Node(4)\n",
    "    root.left.right=Node(12)\n",
    "    root.left.right.left=Node(10)\n",
    "    root.left.right.right=Node(14)\n",
    "    root.right=Node(22)\n",
    "    result=inorderSuccessor(root,root.left.right.right)\n",
    "    print(result)\n"
   ]
  },
  {
   "cell_type": "code",
   "execution_count": null,
   "metadata": {},
   "outputs": [],
   "source": []
  }
 ],
 "metadata": {
  "kernelspec": {
   "display_name": "Python 3",
   "language": "python",
   "name": "python3"
  },
  "language_info": {
   "codemirror_mode": {
    "name": "ipython",
    "version": 3
   },
   "file_extension": ".py",
   "mimetype": "text/x-python",
   "name": "python",
   "nbconvert_exporter": "python",
   "pygments_lexer": "ipython3",
   "version": "3.7.6"
  }
 },
 "nbformat": 4,
 "nbformat_minor": 4
}
